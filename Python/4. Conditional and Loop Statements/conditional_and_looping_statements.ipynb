{
  "nbformat": 4,
  "nbformat_minor": 0,
  "metadata": {
    "colab": {
      "provenance": []
    },
    "kernelspec": {
      "name": "python3",
      "display_name": "Python 3"
    },
    "language_info": {
      "name": "python"
    }
  },
  "cells": [
    {
      "cell_type": "markdown",
      "source": [
        "# **Conditional Statements**"
      ],
      "metadata": {
        "id": "LxXKc_oyIui_"
      }
    },
    {
      "cell_type": "markdown",
      "source": [
        "## if-else"
      ],
      "metadata": {
        "id": "fKW74YawDK6G"
      }
    },
    {
      "cell_type": "code",
      "source": [
        "x = 10\n",
        "\n",
        "if x > 0:\n",
        "  print(\"x is positive\")"
      ],
      "metadata": {
        "colab": {
          "base_uri": "https://localhost:8080/"
        },
        "id": "ZGsxADPW4w8c",
        "outputId": "04715c32-2700-438b-d02d-2d16ce36bc30"
      },
      "execution_count": 1,
      "outputs": [
        {
          "output_type": "stream",
          "name": "stdout",
          "text": [
            "x is positive\n"
          ]
        }
      ]
    },
    {
      "cell_type": "code",
      "source": [
        "x = -10\n",
        "\n",
        "if x > 0:\n",
        "  print(\"x is positive\")"
      ],
      "metadata": {
        "id": "xtcs906u5BxH"
      },
      "execution_count": 2,
      "outputs": []
    },
    {
      "cell_type": "code",
      "source": [
        "x = -10\n",
        "\n",
        "if x > 0:\n",
        "  print(\"x is positive\")\n",
        "else:\n",
        "  print(\"x is negative\")"
      ],
      "metadata": {
        "colab": {
          "base_uri": "https://localhost:8080/"
        },
        "id": "9tQd0QbX5Hc7",
        "outputId": "176aee0a-899c-4ead-c9ac-6deb8a9a0337"
      },
      "execution_count": 3,
      "outputs": [
        {
          "output_type": "stream",
          "name": "stdout",
          "text": [
            "x is negative\n"
          ]
        }
      ]
    },
    {
      "cell_type": "code",
      "source": [
        "x = 100\n",
        "\n",
        "if x > 0:\n",
        "  print(\"x is positive\")\n",
        "\n",
        "print(\"This is outside the if block\")"
      ],
      "metadata": {
        "colab": {
          "base_uri": "https://localhost:8080/"
        },
        "id": "gwLAg0be5Qnl",
        "outputId": "443a794e-14ba-4b6e-cd4f-20ba9bc173ef"
      },
      "execution_count": 4,
      "outputs": [
        {
          "output_type": "stream",
          "name": "stdout",
          "text": [
            "x is positive\n",
            "This is outside the if block\n"
          ]
        }
      ]
    },
    {
      "cell_type": "markdown",
      "source": [
        "Given a number, verify that the number is a multiple of 2 or not?"
      ],
      "metadata": {
        "id": "LmMDngXE6fj9"
      }
    },
    {
      "cell_type": "code",
      "source": [
        "x = int(input(\"Enter a number: \"))\n",
        "# condition to check wheather a numbe ris a multiple of 2 or not\n",
        "if x % 2 == 0:\n",
        "  print(\"number is multiple of 2\")\n",
        "else:\n",
        "  print(\"number is not multiple of 2\")"
      ],
      "metadata": {
        "colab": {
          "base_uri": "https://localhost:8080/"
        },
        "id": "nz5nTau96vaH",
        "outputId": "a863a682-8347-480b-eee2-baac019e7207"
      },
      "execution_count": 5,
      "outputs": [
        {
          "output_type": "stream",
          "name": "stdout",
          "text": [
            "Enter a number: 56\n",
            "number is multiple of 2\n"
          ]
        }
      ]
    },
    {
      "cell_type": "code",
      "source": [
        "my_dict = {'a': 1, 'b': 2, 'c': 3}\n",
        "\n",
        "# key to check\n",
        "key_to_check = 'b'\n",
        "\n",
        "# checking wheather a key is in dictionary or not\n",
        "if key_to_check in my_dict.keys():\n",
        "  print(f\"{key_to_check} is in the dictionary\")\n",
        "else:\n",
        "  print(f\"{key_to_check} is not in the dictionary\")"
      ],
      "metadata": {
        "colab": {
          "base_uri": "https://localhost:8080/"
        },
        "id": "9e65vJYZ68C0",
        "outputId": "dded91d6-4414-4278-b779-c4c39397fa13"
      },
      "execution_count": 6,
      "outputs": [
        {
          "output_type": "stream",
          "name": "stdout",
          "text": [
            "b is in the dictionary\n"
          ]
        }
      ]
    },
    {
      "cell_type": "markdown",
      "source": [
        "## if-elif"
      ],
      "metadata": {
        "id": "zZ74ATJmDOlB"
      }
    },
    {
      "cell_type": "code",
      "source": [
        "a = 10\n",
        "b = 5\n",
        "c = 8\n",
        "\n",
        "if a > b and a > c:\n",
        "  print(\"a is greater than b and c\")\n",
        "elif b > a and b > c:\n",
        "  print(\"b is greater than a and c\")\n",
        "elif c > a and c > b:\n",
        "  print(\"c is greater than a and b\")\n",
        "else:\n",
        "  print(\"none of the above conditions are met\")\n"
      ],
      "metadata": {
        "colab": {
          "base_uri": "https://localhost:8080/"
        },
        "id": "6BH0sFVI7ewW",
        "outputId": "632a0344-be23-48e9-852d-52e37bb7c968"
      },
      "execution_count": 7,
      "outputs": [
        {
          "output_type": "stream",
          "name": "stdout",
          "text": [
            "a is greater than b and c\n"
          ]
        }
      ]
    },
    {
      "cell_type": "markdown",
      "source": [
        "## Nested conditional statement"
      ],
      "metadata": {
        "id": "Og3jHmAwDS3k"
      }
    },
    {
      "cell_type": "markdown",
      "source": [
        "if condition:\n",
        "  if condition2:"
      ],
      "metadata": {
        "id": "lxAqkKOgDZqB"
      }
    },
    {
      "cell_type": "code",
      "source": [
        "x = 10\n",
        "y = 5\n",
        "\n",
        "if x > 0:\n",
        "  print('x is positive')\n",
        "\n",
        "  if y > 0:\n",
        "    print('y is positive')"
      ],
      "metadata": {
        "colab": {
          "base_uri": "https://localhost:8080/"
        },
        "id": "sFfZ63FvBwQJ",
        "outputId": "61e82d16-d86a-4258-bec8-2c20676a27cf"
      },
      "execution_count": 8,
      "outputs": [
        {
          "output_type": "stream",
          "name": "stdout",
          "text": [
            "x is positive\n",
            "y is positive\n"
          ]
        }
      ]
    },
    {
      "cell_type": "code",
      "source": [
        "x = 10\n",
        "y = 5\n",
        "\n",
        "# the below if conditions are independent to each other\n",
        "if x > 0:\n",
        "  print('x is positive')\n",
        "\n",
        "if y > 0:\n",
        "  print('y is positive')"
      ],
      "metadata": {
        "colab": {
          "base_uri": "https://localhost:8080/"
        },
        "id": "ZEEb2o6lD3DX",
        "outputId": "4d90ccdf-ce0e-4496-ab4c-d61d1c573e83"
      },
      "execution_count": 9,
      "outputs": [
        {
          "output_type": "stream",
          "name": "stdout",
          "text": [
            "x is positive\n",
            "y is positive\n"
          ]
        }
      ]
    },
    {
      "cell_type": "code",
      "source": [
        "age = 25\n",
        "income = 50000\n",
        "\n",
        "if age >= 18:\n",
        "  print(\"You are eligible to vote\")\n",
        "  if income >= 30000:\n",
        "    print(\"You are eligible to apply for a credit card\")\n",
        "  elif income >= 20000:\n",
        "    print(\"You are eligible to apply for a personal loan\")\n",
        "  else:\n",
        "    print(\"You are eligible to open a savings account\")\n",
        "else:\n",
        "  print(\"You are not eligible to vote\")"
      ],
      "metadata": {
        "colab": {
          "base_uri": "https://localhost:8080/"
        },
        "id": "pq2LFV3YD-dY",
        "outputId": "fc29539d-f208-4c33-c681-9ed217f123af"
      },
      "execution_count": 10,
      "outputs": [
        {
          "output_type": "stream",
          "name": "stdout",
          "text": [
            "You are eligible to vote\n",
            "You are eligible to apply for a credit card\n"
          ]
        }
      ]
    },
    {
      "cell_type": "markdown",
      "source": [
        "Write a program to take three side lengths and prints wheather the triangle is equilateral, isosceles or scalene"
      ],
      "metadata": {
        "id": "O9BIpbegEq2v"
      }
    },
    {
      "cell_type": "code",
      "source": [
        "side1 = int(input(\"Enter the first side: \"))\n",
        "side2 = int(input(\"Enter the second side: \"))\n",
        "side3 = int(input(\"Enter the third side: \"))\n",
        "\n",
        "if side1 == side2 == side3:\n",
        "  print(\"The triangle is equilateral\")\n",
        "elif side1 == side2 or side1 == side3 or side2 == side3:\n",
        "  print(\"The triangle is isosceles\")\n",
        "else:\n",
        "  print(\"The triangle is scalene\")"
      ],
      "metadata": {
        "colab": {
          "base_uri": "https://localhost:8080/"
        },
        "id": "5_oSh72m1r-G",
        "outputId": "2659a4d6-e001-4c4d-d2ad-1cc3b170875e"
      },
      "execution_count": 11,
      "outputs": [
        {
          "output_type": "stream",
          "name": "stdout",
          "text": [
            "Enter the first side: 23\n",
            "Enter the second side: 32\n",
            "Enter the third side: 23\n",
            "The triangle is isosceles\n"
          ]
        }
      ]
    },
    {
      "cell_type": "markdown",
      "source": [
        "Write a program that prints \"Fizz\" if a number is divisible by 3, \"Buzz\" if divisible by 5, \"FizzBuzz\" if a number is divisible by both 3 and 5"
      ],
      "metadata": {
        "id": "xEfOhBLY10hN"
      }
    },
    {
      "cell_type": "code",
      "source": [
        "num = int(input(\"Enter any number: \"))\n",
        "if num % 3 == 0 and num % 5 == 0:\n",
        "  print(\"FizzBuzz\")\n",
        "elif num % 3 == 0:\n",
        "  print(\"Fizz\")\n",
        "elif num % 5 == 0:\n",
        "  print(\"Buzz\")\n",
        "else:\n",
        "  print(num)"
      ],
      "metadata": {
        "colab": {
          "base_uri": "https://localhost:8080/"
        },
        "id": "lpME1Wta2J87",
        "outputId": "5b899b97-72d6-42c7-d02e-f8cb59dcefb7"
      },
      "execution_count": 12,
      "outputs": [
        {
          "output_type": "stream",
          "name": "stdout",
          "text": [
            "Enter any number: 45\n",
            "FizzBuzz\n"
          ]
        }
      ]
    },
    {
      "cell_type": "markdown",
      "source": [
        "check wheather a string is palindrome or not"
      ],
      "metadata": {
        "id": "xq88os_GKZzN"
      }
    },
    {
      "cell_type": "code",
      "source": [
        "string = input(\"Enter a string: \")\n",
        "\n",
        "if string == string[::-1]:\n",
        "  print(\"It is palindrome\")\n",
        "else:\n",
        "  print(\"It is not a palindrome\")"
      ],
      "metadata": {
        "colab": {
          "base_uri": "https://localhost:8080/"
        },
        "id": "qDP0n3RxKc0H",
        "outputId": "bca17ea8-e415-4474-9e40-2b46e103a553"
      },
      "execution_count": 13,
      "outputs": [
        {
          "output_type": "stream",
          "name": "stdout",
          "text": [
            "Enter a string: cricket\n",
            "It is not a palindrome\n"
          ]
        }
      ]
    },
    {
      "cell_type": "markdown",
      "source": [
        "## Loops"
      ],
      "metadata": {
        "id": "PpV3yQ2q4Ta4"
      }
    },
    {
      "cell_type": "code",
      "source": [
        "x = \"Hello World\"\n",
        "print(x)\n",
        "print(x)\n",
        "print(x)\n",
        "print(x)\n",
        "print(x)\n",
        "print(x)\n",
        "print(x)\n",
        "print(x)\n",
        "print(x)\n",
        "print(x)\n",
        "print(x)\n",
        "print(x)\n",
        "print(x)\n",
        "print(x)\n",
        "print(x)\n",
        "print(x)\n",
        "print(x)\n",
        "print(x)\n",
        "print(x)\n",
        "print(x)"
      ],
      "metadata": {
        "colab": {
          "base_uri": "https://localhost:8080/"
        },
        "id": "2HCCF9oj4gaf",
        "outputId": "4822ae79-698f-4b9c-882e-de596c308925"
      },
      "execution_count": 14,
      "outputs": [
        {
          "output_type": "stream",
          "name": "stdout",
          "text": [
            "Hello World\n",
            "Hello World\n",
            "Hello World\n",
            "Hello World\n",
            "Hello World\n",
            "Hello World\n",
            "Hello World\n",
            "Hello World\n",
            "Hello World\n",
            "Hello World\n",
            "Hello World\n",
            "Hello World\n",
            "Hello World\n",
            "Hello World\n",
            "Hello World\n",
            "Hello World\n",
            "Hello World\n",
            "Hello World\n",
            "Hello World\n",
            "Hello World\n"
          ]
        }
      ]
    },
    {
      "cell_type": "code",
      "source": [
        "fruits = ['apple', 'banana', 'cherry']\n",
        "for fruit in fruits:\n",
        "  print(fruit)"
      ],
      "metadata": {
        "colab": {
          "base_uri": "https://localhost:8080/"
        },
        "id": "hB2kL8bOL99d",
        "outputId": "d9a18ea0-9f44-4bd2-a9f6-4680166d2a64"
      },
      "execution_count": 15,
      "outputs": [
        {
          "output_type": "stream",
          "name": "stdout",
          "text": [
            "apple\n",
            "banana\n",
            "cherry\n"
          ]
        }
      ]
    },
    {
      "cell_type": "code",
      "source": [
        "numbers = [1, 2, 3, 4, 5, 6, 7, 8, 9, 10]\n",
        "\n",
        "for num in numbers:\n",
        "  if num % 2 == 0:\n",
        "    print(\"Even Number\")\n",
        "  else:\n",
        "    print(\"Odd Number\")"
      ],
      "metadata": {
        "colab": {
          "base_uri": "https://localhost:8080/"
        },
        "id": "zXjPjI0DMwDl",
        "outputId": "895c9adb-1e61-44e7-d7d6-870c8423bb98"
      },
      "execution_count": 16,
      "outputs": [
        {
          "output_type": "stream",
          "name": "stdout",
          "text": [
            "Odd Number\n",
            "Even Number\n",
            "Odd Number\n",
            "Even Number\n",
            "Odd Number\n",
            "Even Number\n",
            "Odd Number\n",
            "Even Number\n",
            "Odd Number\n",
            "Even Number\n"
          ]
        }
      ]
    },
    {
      "cell_type": "code",
      "source": [
        "numbers = [10, 50, 40, 30, 5, 15]\n",
        "\n",
        "max = 0\n",
        "for num in numbers:\n",
        "  if max < num:\n",
        "    max = num\n",
        "\n",
        "print(f'{max} is the maximum number')"
      ],
      "metadata": {
        "colab": {
          "base_uri": "https://localhost:8080/"
        },
        "id": "1zyKtQGxNY46",
        "outputId": "152bddaf-3d90-46eb-9e47-fb6167a6ba49"
      },
      "execution_count": 17,
      "outputs": [
        {
          "output_type": "stream",
          "name": "stdout",
          "text": [
            "50 is the maximum number\n"
          ]
        }
      ]
    },
    {
      "cell_type": "code",
      "source": [
        "for i in range(6):\n",
        "  print(i)\n",
        "\n",
        "else:\n",
        "  print(\"Finally Finished\")"
      ],
      "metadata": {
        "colab": {
          "base_uri": "https://localhost:8080/"
        },
        "id": "SVubzCA0OJik",
        "outputId": "d0784b1e-777e-4467-f82b-fc6e64d14e13"
      },
      "execution_count": 18,
      "outputs": [
        {
          "output_type": "stream",
          "name": "stdout",
          "text": [
            "0\n",
            "1\n",
            "2\n",
            "3\n",
            "4\n",
            "5\n",
            "Finally Finished\n"
          ]
        }
      ]
    },
    {
      "cell_type": "markdown",
      "source": [
        "### Loop Comprehension"
      ],
      "metadata": {
        "id": "sjBvrNg4UUQ3"
      }
    },
    {
      "cell_type": "code",
      "source": [
        "squares = [x ** 2 for x in range(1, 11)]\n",
        "print(squares)"
      ],
      "metadata": {
        "colab": {
          "base_uri": "https://localhost:8080/"
        },
        "id": "6HJvzAr3Ul0_",
        "outputId": "a1c9ed9e-21cc-4c7e-fbea-63db98eb0453"
      },
      "execution_count": 19,
      "outputs": [
        {
          "output_type": "stream",
          "name": "stdout",
          "text": [
            "[1, 4, 9, 16, 25, 36, 49, 64, 81, 100]\n"
          ]
        }
      ]
    },
    {
      "cell_type": "code",
      "source": [
        "# new_list = [expression for item in iterable]"
      ],
      "metadata": {
        "id": "N0jNwB5kU21N"
      },
      "execution_count": 20,
      "outputs": []
    },
    {
      "cell_type": "markdown",
      "source": [
        "### Generator Expression"
      ],
      "metadata": {
        "id": "Ijo71Ht0U-S6"
      }
    },
    {
      "cell_type": "code",
      "source": [
        "squares = (x ** 2 for x in range(1, 11))\n",
        "print(squares)\n",
        "\n",
        "for square in squares:\n",
        "  print(square)"
      ],
      "metadata": {
        "colab": {
          "base_uri": "https://localhost:8080/"
        },
        "id": "CwXwoQg4Vgir",
        "outputId": "f77c99a8-3420-43c5-a2fa-311b853c9d92"
      },
      "execution_count": 21,
      "outputs": [
        {
          "output_type": "stream",
          "name": "stdout",
          "text": [
            "<generator object <genexpr> at 0x7c7626049150>\n",
            "1\n",
            "4\n",
            "9\n",
            "16\n",
            "25\n",
            "36\n",
            "49\n",
            "64\n",
            "81\n",
            "100\n"
          ]
        }
      ]
    },
    {
      "cell_type": "markdown",
      "source": [
        "### Nested For Loop"
      ],
      "metadata": {
        "id": "LZV5W5TGVnfA"
      }
    },
    {
      "cell_type": "code",
      "source": [
        "for i in range(1, 6):\n",
        "  for j in range(1, 11):\n",
        "    print(i*j, end='\\t')\n",
        "\n",
        "  print()"
      ],
      "metadata": {
        "colab": {
          "base_uri": "https://localhost:8080/"
        },
        "id": "Y85nhwZFVq4q",
        "outputId": "3e4803e3-195a-47e2-a138-aa96c29307f2"
      },
      "execution_count": 22,
      "outputs": [
        {
          "output_type": "stream",
          "name": "stdout",
          "text": [
            "1\t2\t3\t4\t5\t6\t7\t8\t9\t10\t\n",
            "2\t4\t6\t8\t10\t12\t14\t16\t18\t20\t\n",
            "3\t6\t9\t12\t15\t18\t21\t24\t27\t30\t\n",
            "4\t8\t12\t16\t20\t24\t28\t32\t36\t40\t\n",
            "5\t10\t15\t20\t25\t30\t35\t40\t45\t50\t\n"
          ]
        }
      ]
    },
    {
      "cell_type": "code",
      "source": [
        "n = int(input())\n",
        "\n",
        "sum = 0\n",
        "i = 2\n",
        "\n",
        "while i <= n:\n",
        "  sum += i\n",
        "  i += 2\n",
        "\n",
        "print(sum)"
      ],
      "metadata": {
        "colab": {
          "base_uri": "https://localhost:8080/"
        },
        "id": "Am3u3CcxVzp6",
        "outputId": "ccbca70e-07da-4d73-de34-8666c9044a0c"
      },
      "execution_count": 23,
      "outputs": [
        {
          "output_type": "stream",
          "name": "stdout",
          "text": [
            "16\n",
            "72\n"
          ]
        }
      ]
    },
    {
      "cell_type": "markdown",
      "source": [
        "### Nested While Loop"
      ],
      "metadata": {
        "id": "fnXVuHX4X_1K"
      }
    },
    {
      "cell_type": "code",
      "source": [
        "outer_count = 0\n",
        "\n",
        "while outer_count < 3:\n",
        "  print(\"Outer Loop iteration\", outer_count)\n",
        "\n",
        "  inner_count = 0\n",
        "  while inner_count < 2:\n",
        "    print(\"Inner Loop iteration\", inner_count)\n",
        "    inner_count += 1\n",
        "\n",
        "  outer_count += 1"
      ],
      "metadata": {
        "colab": {
          "base_uri": "https://localhost:8080/"
        },
        "id": "c4Xof-bIYd-L",
        "outputId": "09401caa-69c5-47d0-e1e4-0b6be2fa3e1c"
      },
      "execution_count": 24,
      "outputs": [
        {
          "output_type": "stream",
          "name": "stdout",
          "text": [
            "Outer Loop iteration 0\n",
            "Inner Loop iteration 0\n",
            "Inner Loop iteration 1\n",
            "Outer Loop iteration 1\n",
            "Inner Loop iteration 0\n",
            "Inner Loop iteration 1\n",
            "Outer Loop iteration 2\n",
            "Inner Loop iteration 0\n",
            "Inner Loop iteration 1\n"
          ]
        }
      ]
    },
    {
      "cell_type": "markdown",
      "source": [
        "find the sum of all even numbers from 1 to 100 using a for loop"
      ],
      "metadata": {
        "id": "wtfSf-aoY0dI"
      }
    },
    {
      "cell_type": "code",
      "source": [
        "sum = 0\n",
        "for i in range(0, 101, 2):\n",
        "  sum += i\n",
        "\n",
        "print(sum)"
      ],
      "metadata": {
        "colab": {
          "base_uri": "https://localhost:8080/"
        },
        "id": "9VetttS4ZDA9",
        "outputId": "63c9e5f2-2cfc-47cb-da6f-45d2f8b781e3"
      },
      "execution_count": 25,
      "outputs": [
        {
          "output_type": "stream",
          "name": "stdout",
          "text": [
            "2550\n"
          ]
        }
      ]
    },
    {
      "cell_type": "markdown",
      "source": [
        "write a program to calculate the factorial of a number using a while loop"
      ],
      "metadata": {
        "id": "TBffTKUfZNhA"
      }
    },
    {
      "cell_type": "code",
      "source": [
        "n = int(input(\"Enter a number:  \"))\n",
        "\n",
        "fact = 1\n",
        "\n",
        "while n > 1:\n",
        "  fact *= n\n",
        "  n -= 1\n",
        "\n",
        "print(fact)"
      ],
      "metadata": {
        "colab": {
          "base_uri": "https://localhost:8080/"
        },
        "id": "uJCevl3lZZeh",
        "outputId": "5f532cfb-0fe8-4a99-fbb5-79970f084db8"
      },
      "execution_count": 27,
      "outputs": [
        {
          "output_type": "stream",
          "name": "stdout",
          "text": [
            "Enter a number:  5\n",
            "120\n"
          ]
        }
      ]
    },
    {
      "cell_type": "code",
      "source": [],
      "metadata": {
        "id": "fcqD3cFqZsoh"
      },
      "execution_count": null,
      "outputs": []
    }
  ]
}