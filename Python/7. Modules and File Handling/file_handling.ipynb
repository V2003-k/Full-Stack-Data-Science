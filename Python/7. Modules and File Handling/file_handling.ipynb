{
  "nbformat": 4,
  "nbformat_minor": 0,
  "metadata": {
    "colab": {
      "provenance": []
    },
    "kernelspec": {
      "name": "python3",
      "display_name": "Python 3"
    },
    "language_info": {
      "name": "python"
    }
  },
  "cells": [
    {
      "cell_type": "code",
      "execution_count": 1,
      "metadata": {
        "colab": {
          "base_uri": "https://localhost:8080/"
        },
        "id": "c46ga9zLn1P3",
        "outputId": "d298a08b-7c99-46d2-ee52-d323ee44b403"
      },
      "outputs": [
        {
          "output_type": "stream",
          "name": "stdout",
          "text": [
            "My name is Vishwajeet Khaple\n",
            "I am currently student from \"MIT WPU\"\n",
            "\n"
          ]
        }
      ],
      "source": [
        "file = open('/content/drive/MyDrive/Colab Notebooks/my_textual_document.txt', 'r')\n",
        "content = file.read()\n",
        "print(content)"
      ]
    },
    {
      "cell_type": "code",
      "source": [
        "file = open('/content/drive/MyDrive/Colab Notebooks/my_textual_document.txt', 'r')\n",
        "print(file.read(6))"
      ],
      "metadata": {
        "colab": {
          "base_uri": "https://localhost:8080/"
        },
        "id": "5EGblLRE-Gt6",
        "outputId": "8b0ae817-26ec-4616-da65-2d2dd6cf601e"
      },
      "execution_count": 2,
      "outputs": [
        {
          "output_type": "stream",
          "name": "stdout",
          "text": [
            "My nam\n"
          ]
        }
      ]
    },
    {
      "cell_type": "code",
      "source": [
        "file = open('/content/drive/MyDrive/Colab Notebooks/my_textual_document.txt', 'r')\n",
        "print(file.readline())"
      ],
      "metadata": {
        "colab": {
          "base_uri": "https://localhost:8080/"
        },
        "id": "mjdYEuJjLIHc",
        "outputId": "0698be41-28a2-43f3-8986-c4365b8cf45d"
      },
      "execution_count": 3,
      "outputs": [
        {
          "output_type": "stream",
          "name": "stdout",
          "text": [
            "My name is Vishwajeet Khaple\n",
            "\n"
          ]
        }
      ]
    },
    {
      "cell_type": "code",
      "source": [
        "print(file.readline())"
      ],
      "metadata": {
        "colab": {
          "base_uri": "https://localhost:8080/"
        },
        "id": "EiEuJ0caLs3j",
        "outputId": "ab15d20b-ec2b-4d42-877e-70c58809c366"
      },
      "execution_count": 4,
      "outputs": [
        {
          "output_type": "stream",
          "name": "stdout",
          "text": [
            "I am currently student from \"MIT WPU\"\n",
            "\n"
          ]
        }
      ]
    },
    {
      "cell_type": "code",
      "source": [
        "file = open('/content/drive/MyDrive/Colab Notebooks/my_textual_document.txt', 'r')\n",
        "for line in file.readlines():\n",
        "  print(line)"
      ],
      "metadata": {
        "colab": {
          "base_uri": "https://localhost:8080/"
        },
        "id": "Jxks4UuLL07S",
        "outputId": "017043aa-b6d0-4247-ca66-d016d5bc6db1"
      },
      "execution_count": 5,
      "outputs": [
        {
          "output_type": "stream",
          "name": "stdout",
          "text": [
            "My name is Vishwajeet Khaple\n",
            "\n",
            "I am currently student from \"MIT WPU\"\n",
            "\n"
          ]
        }
      ]
    },
    {
      "cell_type": "code",
      "source": [
        "file = open('/content/drive/MyDrive/Colab Notebooks/my_textual_document.txt', 'r')\n",
        "file.close()"
      ],
      "metadata": {
        "id": "qGU2kW8nM2Db"
      },
      "execution_count": 6,
      "outputs": []
    },
    {
      "cell_type": "code",
      "source": [
        "file = open('/content/drive/MyDrive/Colab Notebooks/my_textual_text', 'w')\n",
        "content = file.write(\"Hey\")\n",
        "print(file)"
      ],
      "metadata": {
        "colab": {
          "base_uri": "https://localhost:8080/"
        },
        "id": "JcHf41XGNFGw",
        "outputId": "1c69358a-dd54-4381-b0ce-f6cf0a317c6c"
      },
      "execution_count": 7,
      "outputs": [
        {
          "output_type": "stream",
          "name": "stdout",
          "text": [
            "<_io.TextIOWrapper name='/content/drive/MyDrive/Colab Notebooks/my_textual_text' mode='w' encoding='utf-8'>\n"
          ]
        }
      ]
    },
    {
      "cell_type": "code",
      "source": [
        "file = open('/content/drive/MyDrive/Colab Notebooks/my_textual_text', 'r')\n",
        "print(file.read())"
      ],
      "metadata": {
        "colab": {
          "base_uri": "https://localhost:8080/"
        },
        "id": "Kb2AffkxOa4N",
        "outputId": "a4da80cc-f3d9-402a-f8bb-0f4f1efd8dfe"
      },
      "execution_count": 8,
      "outputs": [
        {
          "output_type": "stream",
          "name": "stdout",
          "text": [
            "Hey\n"
          ]
        }
      ]
    },
    {
      "cell_type": "code",
      "source": [
        "file = open('/content/drive/MyDrive/Colab Notebooks/my_textual_text', 'a')\n",
        "content = file.write(\", my name is vishwajeet\")\n",
        "print(content)"
      ],
      "metadata": {
        "colab": {
          "base_uri": "https://localhost:8080/"
        },
        "id": "QQeacBXXOiON",
        "outputId": "fa0e1cb3-db13-4f7f-db36-40b88f5c2f7d"
      },
      "execution_count": 9,
      "outputs": [
        {
          "output_type": "stream",
          "name": "stdout",
          "text": [
            "23\n"
          ]
        }
      ]
    },
    {
      "cell_type": "code",
      "source": [
        "file = open('/content/drive/MyDrive/Colab Notebooks/my_textual_text', 'r')\n",
        "content = file.read()\n",
        "print(content)"
      ],
      "metadata": {
        "colab": {
          "base_uri": "https://localhost:8080/"
        },
        "id": "dzY3fX1tOqjb",
        "outputId": "d9512aca-4034-4810-b950-4dfc038ad229"
      },
      "execution_count": 10,
      "outputs": [
        {
          "output_type": "stream",
          "name": "stdout",
          "text": [
            "Hey, my name is vishwajeet\n"
          ]
        }
      ]
    },
    {
      "cell_type": "code",
      "source": [
        "try:\n",
        "  file = open('/content/drive/MyDrive/Colab Notebooks/my_textual_document.txt', 'r')\n",
        "except FileNotFoundError:\n",
        "  print(\"Error: File Not Found\")\n",
        "else:\n",
        "  content = file.read()\n",
        "  print(content)\n",
        "finally:\n",
        "  file.close()"
      ],
      "metadata": {
        "colab": {
          "base_uri": "https://localhost:8080/"
        },
        "id": "lwmpD6a1Ov5w",
        "outputId": "d616f8f6-1be0-4bcc-d705-fb50ceb9f78c"
      },
      "execution_count": 13,
      "outputs": [
        {
          "output_type": "stream",
          "name": "stdout",
          "text": [
            "My name is Vishwajeet Khaple\n",
            "I am currently student from \"MIT WPU\"\n",
            "\n"
          ]
        }
      ]
    },
    {
      "cell_type": "markdown",
      "source": [],
      "metadata": {
        "id": "lLMo-m6hQeqW"
      }
    },
    {
      "cell_type": "markdown",
      "source": [
        "## Create a file"
      ],
      "metadata": {
        "id": "OYJ99KxeQbYc"
      }
    },
    {
      "cell_type": "code",
      "source": [
        "try:\n",
        "  file = open('/content/myText.txt', 'x')\n",
        "  file.write(\"Heym How are you?, I am doing good and have enrolled into full stack data science source.\\n\")\n",
        "  file.write(\"What are you doing now days ?\")\n",
        "except FileExistsError:\n",
        "  print(\"Error: The file 'myText.txt' already eixst\")\n",
        "except Exception:\n",
        "  print(\"An unexpected error occured\")\n",
        "finally:\n",
        "  if 'file' in locals() and not file.closed:\n",
        "    file.close()"
      ],
      "metadata": {
        "id": "nhLOBSwYEEZE"
      },
      "execution_count": 11,
      "outputs": []
    },
    {
      "cell_type": "markdown",
      "source": [
        "## Delete a file"
      ],
      "metadata": {
        "id": "-NmjYy2aLU_8"
      }
    },
    {
      "cell_type": "code",
      "source": [
        "import os\n",
        "file_path = '/content/myText.txt'\n",
        "\n",
        "try:\n",
        "  os.remove(file_path)\n",
        "  print(f\"The file {file_path} has been deleted successfully.\")\n",
        "except FileNotFoundError:\n",
        "  print(f\"Error: The file {file_path} does not exist.\")\n",
        "except PermissionError:\n",
        "  print(f\"Error: You do not have permission to delete the file {file_path}.\")\n",
        "except Exception:\n",
        "  print(\"An unexpected Error occureed\")"
      ],
      "metadata": {
        "colab": {
          "base_uri": "https://localhost:8080/"
        },
        "id": "5Bte-X3AQhFd",
        "outputId": "cca51d9d-8337-4ce1-913f-fc4a6c7d4f2e"
      },
      "execution_count": 12,
      "outputs": [
        {
          "output_type": "stream",
          "name": "stdout",
          "text": [
            "The file /content/myText.txt has been deleted successfully.\n"
          ]
        }
      ]
    },
    {
      "cell_type": "code",
      "source": [],
      "metadata": {
        "id": "2I1KwhbfSQ6y"
      },
      "execution_count": null,
      "outputs": []
    }
  ]
}