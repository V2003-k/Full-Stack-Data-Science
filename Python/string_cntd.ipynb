{
  "nbformat": 4,
  "nbformat_minor": 0,
  "metadata": {
    "colab": {
      "provenance": []
    },
    "kernelspec": {
      "name": "python3",
      "display_name": "Python 3"
    },
    "language_info": {
      "name": "python"
    }
  },
  "cells": [
    {
      "cell_type": "markdown",
      "source": [
        "## **String Continued**"
      ],
      "metadata": {
        "id": "nGHjuIW-yoM_"
      }
    },
    {
      "cell_type": "markdown",
      "source": [
        "## Compairing Strings"
      ],
      "metadata": {
        "id": "y0JMalE4yxKr"
      }
    },
    {
      "cell_type": "code",
      "source": [
        "str1 = \"apple\"\n",
        "str2 = \"banana\"\n",
        "\n",
        "print(str1 == str2)\n",
        "print(str1 != str2)\n",
        "print(str1 < str2)\n",
        "print(str1 > str2)\n",
        "print(str1 <= str2)\n",
        "print(str1 >= str2)"
      ],
      "metadata": {
        "colab": {
          "base_uri": "https://localhost:8080/"
        },
        "id": "rPrv9C5_0fGE",
        "outputId": "2ddc55f9-eeaf-4711-e438-0447bb4a7faa"
      },
      "execution_count": 1,
      "outputs": [
        {
          "output_type": "stream",
          "name": "stdout",
          "text": [
            "False\n",
            "True\n",
            "True\n",
            "False\n",
            "True\n",
            "False\n"
          ]
        }
      ]
    },
    {
      "cell_type": "code",
      "source": [
        "ord('a')"
      ],
      "metadata": {
        "colab": {
          "base_uri": "https://localhost:8080/"
        },
        "id": "bC_R3mgT0qzH",
        "outputId": "39572d2d-17af-4078-850c-82db0d305af9"
      },
      "execution_count": 2,
      "outputs": [
        {
          "output_type": "execute_result",
          "data": {
            "text/plain": [
              "97"
            ]
          },
          "metadata": {},
          "execution_count": 2
        }
      ]
    },
    {
      "cell_type": "code",
      "source": [
        "ord('b')"
      ],
      "metadata": {
        "colab": {
          "base_uri": "https://localhost:8080/"
        },
        "id": "cGWwp7L42F3b",
        "outputId": "40c8a05a-1624-4d51-a613-dd7bf3e40bf8"
      },
      "execution_count": 3,
      "outputs": [
        {
          "output_type": "execute_result",
          "data": {
            "text/plain": [
              "98"
            ]
          },
          "metadata": {},
          "execution_count": 3
        }
      ]
    },
    {
      "cell_type": "code",
      "source": [
        "\"cat\" < \"catelog\""
      ],
      "metadata": {
        "colab": {
          "base_uri": "https://localhost:8080/"
        },
        "id": "goAdZmQl2HWC",
        "outputId": "6f37c574-2b63-471c-b43c-61ca41e4bc67"
      },
      "execution_count": 4,
      "outputs": [
        {
          "output_type": "execute_result",
          "data": {
            "text/plain": [
              "True"
            ]
          },
          "metadata": {},
          "execution_count": 4
        }
      ]
    },
    {
      "cell_type": "code",
      "source": [
        "\"Zebra\" < \"apple\""
      ],
      "metadata": {
        "colab": {
          "base_uri": "https://localhost:8080/"
        },
        "id": "4VSisGpw2KZe",
        "outputId": "a65df357-a62c-4ce5-dfff-40ee106a49c5"
      },
      "execution_count": 5,
      "outputs": [
        {
          "output_type": "execute_result",
          "data": {
            "text/plain": [
              "True"
            ]
          },
          "metadata": {},
          "execution_count": 5
        }
      ]
    },
    {
      "cell_type": "code",
      "source": [
        "ord('Z')"
      ],
      "metadata": {
        "colab": {
          "base_uri": "https://localhost:8080/"
        },
        "id": "maT33MZa2NT4",
        "outputId": "9adc385c-d564-466c-86df-e2c2697360b0"
      },
      "execution_count": 6,
      "outputs": [
        {
          "output_type": "execute_result",
          "data": {
            "text/plain": [
              "90"
            ]
          },
          "metadata": {},
          "execution_count": 6
        }
      ]
    },
    {
      "cell_type": "markdown",
      "source": [
        "## Replace Function"
      ],
      "metadata": {
        "id": "KhEnaZ-E2XI5"
      }
    },
    {
      "cell_type": "code",
      "source": [
        "original_string = \"Hello, World!\"\n",
        "\n",
        "# Replace \"world\" with \"python\"\n",
        "new_string = original_string.replace(\"World\", \"Python\")\n",
        "print(new_string)"
      ],
      "metadata": {
        "colab": {
          "base_uri": "https://localhost:8080/"
        },
        "id": "8tJ5atnn29ew",
        "outputId": "1eb30df8-3d87-4b2f-d55b-764b1dda3315"
      },
      "execution_count": 7,
      "outputs": [
        {
          "output_type": "stream",
          "name": "stdout",
          "text": [
            "Hello, Python!\n"
          ]
        }
      ]
    },
    {
      "cell_type": "markdown",
      "source": [
        "## Split Function"
      ],
      "metadata": {
        "id": "jyzXfsFY3g5a"
      }
    },
    {
      "cell_type": "code",
      "source": [
        "sentece = \"This is a very intresting session\"\n",
        "words = sentece.split()\n",
        "print(words)"
      ],
      "metadata": {
        "colab": {
          "base_uri": "https://localhost:8080/"
        },
        "id": "KAT643mZ42oQ",
        "outputId": "c465d180-8a75-4532-8441-9dc72b6ec93e"
      },
      "execution_count": 8,
      "outputs": [
        {
          "output_type": "stream",
          "name": "stdout",
          "text": [
            "['This', 'is', 'a', 'very', 'intresting', 'session']\n"
          ]
        }
      ]
    },
    {
      "cell_type": "code",
      "source": [
        "words = sentece.split('.')\n",
        "print(words)"
      ],
      "metadata": {
        "colab": {
          "base_uri": "https://localhost:8080/"
        },
        "id": "QQH8vhTA5Fw-",
        "outputId": "cddfc6a3-cb79-4048-cc4c-5cb283194beb"
      },
      "execution_count": 9,
      "outputs": [
        {
          "output_type": "stream",
          "name": "stdout",
          "text": [
            "['This is a very intresting session']\n"
          ]
        }
      ]
    },
    {
      "cell_type": "code",
      "source": [
        "names = \"Rohit, Monika, Shyam, Priya, Vidhushi, Aranya\"\n",
        "names_list = names.split(',')\n",
        "print(names_list)"
      ],
      "metadata": {
        "colab": {
          "base_uri": "https://localhost:8080/"
        },
        "id": "fTOcqDig5lBR",
        "outputId": "7013c0b4-6ac5-47fa-8762-5f7c907eb198"
      },
      "execution_count": 10,
      "outputs": [
        {
          "output_type": "stream",
          "name": "stdout",
          "text": [
            "['Rohit', ' Monika', ' Shyam', ' Priya', ' Vidhushi', ' Aranya']\n"
          ]
        }
      ]
    },
    {
      "cell_type": "code",
      "source": [
        "string = \"Hello-World\"\n",
        "print(string.split('-'))"
      ],
      "metadata": {
        "colab": {
          "base_uri": "https://localhost:8080/"
        },
        "id": "ks5AVd4m6FnQ",
        "outputId": "1af30e25-c6d7-43a9-d825-87a76802e4e0"
      },
      "execution_count": 11,
      "outputs": [
        {
          "output_type": "stream",
          "name": "stdout",
          "text": [
            "['Hello', 'World']\n"
          ]
        }
      ]
    },
    {
      "cell_type": "code",
      "source": [
        "string = \"HelloWorld\"\n",
        "print(string.split(\"-\"))"
      ],
      "metadata": {
        "colab": {
          "base_uri": "https://localhost:8080/"
        },
        "id": "22CHyKQ66ZfH",
        "outputId": "3ef325f4-fe6f-495d-d745-61ffe9ecc822"
      },
      "execution_count": 12,
      "outputs": [
        {
          "output_type": "stream",
          "name": "stdout",
          "text": [
            "['HelloWorld']\n"
          ]
        }
      ]
    },
    {
      "cell_type": "markdown",
      "source": [
        "## Formatting"
      ],
      "metadata": {
        "id": "uG8Sbhuj6jxF"
      }
    },
    {
      "cell_type": "code",
      "source": [
        "age = 30\n",
        "text = \"My name is Vishwajeet, I am \" + age\n",
        "print(text)"
      ],
      "metadata": {
        "colab": {
          "base_uri": "https://localhost:8080/",
          "height": 176
        },
        "id": "fdNi5v4h6xAs",
        "outputId": "72550d29-bdea-4f08-e4a0-52ad5673e009"
      },
      "execution_count": 13,
      "outputs": [
        {
          "output_type": "error",
          "ename": "TypeError",
          "evalue": "can only concatenate str (not \"int\") to str",
          "traceback": [
            "\u001b[0;31m---------------------------------------------------------------------------\u001b[0m",
            "\u001b[0;31mTypeError\u001b[0m                                 Traceback (most recent call last)",
            "\u001b[0;32m/tmp/ipython-input-2785601301.py\u001b[0m in \u001b[0;36m<cell line: 0>\u001b[0;34m()\u001b[0m\n\u001b[1;32m      1\u001b[0m \u001b[0mage\u001b[0m \u001b[0;34m=\u001b[0m \u001b[0;36m30\u001b[0m\u001b[0;34m\u001b[0m\u001b[0;34m\u001b[0m\u001b[0m\n\u001b[0;32m----> 2\u001b[0;31m \u001b[0mtext\u001b[0m \u001b[0;34m=\u001b[0m \u001b[0;34m\"My name is Vishwajeet, I am \"\u001b[0m \u001b[0;34m+\u001b[0m \u001b[0mage\u001b[0m\u001b[0;34m\u001b[0m\u001b[0;34m\u001b[0m\u001b[0m\n\u001b[0m\u001b[1;32m      3\u001b[0m \u001b[0mprint\u001b[0m\u001b[0;34m(\u001b[0m\u001b[0mtext\u001b[0m\u001b[0;34m)\u001b[0m\u001b[0;34m\u001b[0m\u001b[0;34m\u001b[0m\u001b[0m\n",
            "\u001b[0;31mTypeError\u001b[0m: can only concatenate str (not \"int\") to str"
          ]
        }
      ]
    },
    {
      "cell_type": "code",
      "source": [
        "age = 30\n",
        "text = f\"My name is Vishwajeet, I am {age} years old\"\n",
        "print(text)"
      ],
      "metadata": {
        "colab": {
          "base_uri": "https://localhost:8080/"
        },
        "id": "31PbT_vY7KTA",
        "outputId": "0b243442-22f2-4e10-9063-9ba7beb12fc9"
      },
      "execution_count": 14,
      "outputs": [
        {
          "output_type": "stream",
          "name": "stdout",
          "text": [
            "My name is Vishwajeet, I am 30 years old\n"
          ]
        }
      ]
    },
    {
      "cell_type": "markdown",
      "source": [
        "## Strip Function"
      ],
      "metadata": {
        "id": "Jv2_2XJr7dNo"
      }
    },
    {
      "cell_type": "code",
      "source": [
        "text = \"                      Hello, Python Developers!        \"\n",
        "print(text.strip())"
      ],
      "metadata": {
        "colab": {
          "base_uri": "https://localhost:8080/"
        },
        "id": "LZsWvehX8SeT",
        "outputId": "3229082e-ca0c-4dda-fb3b-dfe632fbfe16"
      },
      "execution_count": 15,
      "outputs": [
        {
          "output_type": "stream",
          "name": "stdout",
          "text": [
            "Hello, Python Developers!\n"
          ]
        }
      ]
    },
    {
      "cell_type": "code",
      "source": [
        "stripped_text = text.strip()\n",
        "print(stripped_text)"
      ],
      "metadata": {
        "colab": {
          "base_uri": "https://localhost:8080/"
        },
        "id": "1w_wWwt28p3K",
        "outputId": "e1fa644e-b6b1-4ce8-a8d8-82010dba0c23"
      },
      "execution_count": 16,
      "outputs": [
        {
          "output_type": "stream",
          "name": "stdout",
          "text": [
            "Hello, Python Developers!\n"
          ]
        }
      ]
    },
    {
      "cell_type": "markdown",
      "source": [
        "## Index Function"
      ],
      "metadata": {
        "id": "wq1jCM5y9BXz"
      }
    },
    {
      "cell_type": "code",
      "source": [
        "string = \"Hello, World!\"\n",
        "index = string.index(\"World\")\n",
        "print(index)"
      ],
      "metadata": {
        "colab": {
          "base_uri": "https://localhost:8080/"
        },
        "id": "LgFPRBej9FI1",
        "outputId": "51a56d0a-6f2e-46e8-86a6-591e72474c7f"
      },
      "execution_count": 17,
      "outputs": [
        {
          "output_type": "stream",
          "name": "stdout",
          "text": [
            "7\n"
          ]
        }
      ]
    },
    {
      "cell_type": "code",
      "source": [
        "index = string.index(\"python\")\n",
        "print(index)"
      ],
      "metadata": {
        "colab": {
          "base_uri": "https://localhost:8080/",
          "height": 159
        },
        "id": "238snPnm9xDf",
        "outputId": "38bbb326-7b64-40cb-8ef7-e622e60c3273"
      },
      "execution_count": 18,
      "outputs": [
        {
          "output_type": "error",
          "ename": "ValueError",
          "evalue": "substring not found",
          "traceback": [
            "\u001b[0;31m---------------------------------------------------------------------------\u001b[0m",
            "\u001b[0;31mValueError\u001b[0m                                Traceback (most recent call last)",
            "\u001b[0;32m/tmp/ipython-input-3743837784.py\u001b[0m in \u001b[0;36m<cell line: 0>\u001b[0;34m()\u001b[0m\n\u001b[0;32m----> 1\u001b[0;31m \u001b[0mindex\u001b[0m \u001b[0;34m=\u001b[0m \u001b[0mstring\u001b[0m\u001b[0;34m.\u001b[0m\u001b[0mindex\u001b[0m\u001b[0;34m(\u001b[0m\u001b[0;34m\"python\"\u001b[0m\u001b[0;34m)\u001b[0m\u001b[0;34m\u001b[0m\u001b[0;34m\u001b[0m\u001b[0m\n\u001b[0m\u001b[1;32m      2\u001b[0m \u001b[0mprint\u001b[0m\u001b[0;34m(\u001b[0m\u001b[0mindex\u001b[0m\u001b[0;34m)\u001b[0m\u001b[0;34m\u001b[0m\u001b[0;34m\u001b[0m\u001b[0m\n",
            "\u001b[0;31mValueError\u001b[0m: substring not found"
          ]
        }
      ]
    },
    {
      "cell_type": "markdown",
      "source": [
        "## Find Function"
      ],
      "metadata": {
        "id": "8bPFYibc9_xj"
      }
    },
    {
      "cell_type": "code",
      "source": [
        "string = \"Hello, World!\"\n",
        "index = string.find(\"World\")\n",
        "print(index)"
      ],
      "metadata": {
        "colab": {
          "base_uri": "https://localhost:8080/"
        },
        "id": "igNI0faQ-Pbg",
        "outputId": "7ebd1211-4609-428a-b58a-a11c9217bb29"
      },
      "execution_count": 19,
      "outputs": [
        {
          "output_type": "stream",
          "name": "stdout",
          "text": [
            "7\n"
          ]
        }
      ]
    },
    {
      "cell_type": "code",
      "source": [
        "index = string.find(\"Python\")\n",
        "print(index)"
      ],
      "metadata": {
        "colab": {
          "base_uri": "https://localhost:8080/"
        },
        "id": "w5oMekQ7-ahX",
        "outputId": "9796e9e0-a3a6-4f3e-f586-519bc93b083d"
      },
      "execution_count": 20,
      "outputs": [
        {
          "output_type": "stream",
          "name": "stdout",
          "text": [
            "-1\n"
          ]
        }
      ]
    },
    {
      "cell_type": "code",
      "source": [
        "sentence = \"This is a sample sentence\"\n",
        "count = sentece.count(\"is\")\n",
        "print(count)"
      ],
      "metadata": {
        "colab": {
          "base_uri": "https://localhost:8080/"
        },
        "id": "e8TfA2wE-ddC",
        "outputId": "95032a72-e115-41d0-cf66-38d2afbc5658"
      },
      "execution_count": 21,
      "outputs": [
        {
          "output_type": "stream",
          "name": "stdout",
          "text": [
            "2\n"
          ]
        }
      ]
    },
    {
      "cell_type": "code",
      "source": [
        "text1 = \"Hello\"\n",
        "text2 = \"Hello123\"\n",
        "print(text1.isalpha())"
      ],
      "metadata": {
        "colab": {
          "base_uri": "https://localhost:8080/"
        },
        "id": "GaENMQoi_ZGy",
        "outputId": "21b6430f-85b4-41d6-c853-7ac0f2af6250"
      },
      "execution_count": 22,
      "outputs": [
        {
          "output_type": "stream",
          "name": "stdout",
          "text": [
            "True\n"
          ]
        }
      ]
    },
    {
      "cell_type": "code",
      "source": [
        "print(text2.isalpha())"
      ],
      "metadata": {
        "colab": {
          "base_uri": "https://localhost:8080/"
        },
        "id": "u2e2SGOF_w8T",
        "outputId": "6bab2d1c-736e-49f6-9922-1197a7d9405d"
      },
      "execution_count": 23,
      "outputs": [
        {
          "output_type": "stream",
          "name": "stdout",
          "text": [
            "False\n"
          ]
        }
      ]
    },
    {
      "cell_type": "markdown",
      "source": [
        "## isupper() & islower() & isdigit()"
      ],
      "metadata": {
        "id": "Fbh8TFth_0TD"
      }
    },
    {
      "cell_type": "code",
      "source": [
        "text1 = \"HELLO\"\n",
        "text1.isupper()"
      ],
      "metadata": {
        "colab": {
          "base_uri": "https://localhost:8080/"
        },
        "id": "pnWSjHUkA2R7",
        "outputId": "673daad5-68e8-4b35-8167-c169e583855b"
      },
      "execution_count": 24,
      "outputs": [
        {
          "output_type": "execute_result",
          "data": {
            "text/plain": [
              "True"
            ]
          },
          "metadata": {},
          "execution_count": 24
        }
      ]
    },
    {
      "cell_type": "code",
      "source": [
        "text1.islower()"
      ],
      "metadata": {
        "colab": {
          "base_uri": "https://localhost:8080/"
        },
        "id": "0vuIaqN-BapB",
        "outputId": "1a9f8641-dc16-4aef-d067-fc71970d5a57"
      },
      "execution_count": 25,
      "outputs": [
        {
          "output_type": "execute_result",
          "data": {
            "text/plain": [
              "False"
            ]
          },
          "metadata": {},
          "execution_count": 25
        }
      ]
    },
    {
      "cell_type": "code",
      "source": [
        "text1.isdigit()"
      ],
      "metadata": {
        "colab": {
          "base_uri": "https://localhost:8080/"
        },
        "id": "XmLaLQ35BcEA",
        "outputId": "467e1eaa-795b-4283-dc24-43f3a9f2adaa"
      },
      "execution_count": 26,
      "outputs": [
        {
          "output_type": "execute_result",
          "data": {
            "text/plain": [
              "False"
            ]
          },
          "metadata": {},
          "execution_count": 26
        }
      ]
    },
    {
      "cell_type": "code",
      "source": [
        "text = \"Hello World! 1234\"\n",
        "swapped_text = text.swapcase()\n",
        "print(swapped_text)"
      ],
      "metadata": {
        "colab": {
          "base_uri": "https://localhost:8080/"
        },
        "id": "_or1KRKkBdhr",
        "outputId": "396ac8c8-c385-4c09-9515-1fbee0859af6"
      },
      "execution_count": 27,
      "outputs": [
        {
          "output_type": "stream",
          "name": "stdout",
          "text": [
            "hELLO wORLD! 1234\n"
          ]
        }
      ]
    },
    {
      "cell_type": "code",
      "source": [],
      "metadata": {
        "id": "u74_hubABmlw"
      },
      "execution_count": null,
      "outputs": []
    }
  ]
}