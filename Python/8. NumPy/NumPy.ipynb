{
  "nbformat": 4,
  "nbformat_minor": 0,
  "metadata": {
    "colab": {
      "provenance": []
    },
    "kernelspec": {
      "name": "python3",
      "display_name": "Python 3"
    },
    "language_info": {
      "name": "python"
    }
  },
  "cells": [
    {
      "cell_type": "markdown",
      "source": [
        "# NumPy"
      ],
      "metadata": {
        "id": "RFu-kFhGbWow"
      }
    },
    {
      "cell_type": "code",
      "execution_count": 2,
      "metadata": {
        "id": "8QkAup7JTjFo"
      },
      "outputs": [],
      "source": [
        "import numpy as np"
      ]
    },
    {
      "cell_type": "markdown",
      "source": [
        "## Creation of a numpy array from a list"
      ],
      "metadata": {
        "id": "Kw74LWNEbRW-"
      }
    },
    {
      "cell_type": "code",
      "source": [
        "array_from_a_list = np.array([1, 2, 3, 4, 5])\n",
        "print(array_from_a_list)"
      ],
      "metadata": {
        "colab": {
          "base_uri": "https://localhost:8080/"
        },
        "id": "XXII4sGnbVgi",
        "outputId": "da3dc5e7-3e73-468a-dbb2-de4287a013fc"
      },
      "execution_count": 3,
      "outputs": [
        {
          "output_type": "stream",
          "name": "stdout",
          "text": [
            "[1 2 3 4 5]\n"
          ]
        }
      ]
    },
    {
      "cell_type": "code",
      "source": [
        "type(array_from_a_list)"
      ],
      "metadata": {
        "colab": {
          "base_uri": "https://localhost:8080/"
        },
        "id": "WjuQVuqvbgEu",
        "outputId": "8adaf29b-6da2-4291-e2bd-b507efb9c538"
      },
      "execution_count": 4,
      "outputs": [
        {
          "output_type": "execute_result",
          "data": {
            "text/plain": [
              "numpy.ndarray"
            ]
          },
          "metadata": {},
          "execution_count": 4
        }
      ]
    },
    {
      "cell_type": "code",
      "source": [
        "array_from_tuple = np.array((1, 2, 3, 4, 5))\n",
        "print(array_from_tuple)"
      ],
      "metadata": {
        "colab": {
          "base_uri": "https://localhost:8080/"
        },
        "id": "wxt1Fm9ZbxHR",
        "outputId": "37969bf5-b34c-46ee-8a42-4fc61865312a"
      },
      "execution_count": 6,
      "outputs": [
        {
          "output_type": "stream",
          "name": "stdout",
          "text": [
            "[1 2 3 4 5]\n"
          ]
        }
      ]
    },
    {
      "cell_type": "markdown",
      "source": [
        "## 2D array"
      ],
      "metadata": {
        "id": "7Md9LlYhb5nJ"
      }
    },
    {
      "cell_type": "code",
      "source": [
        "array_2d = np.array(\n",
        "    [\n",
        "      [1, 2, 3],\n",
        "      [4, 5, 6],\n",
        "      [7, 8, 9]\n",
        "    ]\n",
        ")"
      ],
      "metadata": {
        "id": "oXxX0TrBhHQl"
      },
      "execution_count": 7,
      "outputs": []
    },
    {
      "cell_type": "code",
      "source": [
        "print(array_2d)"
      ],
      "metadata": {
        "colab": {
          "base_uri": "https://localhost:8080/"
        },
        "id": "jR72Uvj1hs5p",
        "outputId": "1843ba2b-3f12-4a84-9387-f76e64cbcb66"
      },
      "execution_count": 8,
      "outputs": [
        {
          "output_type": "stream",
          "name": "stdout",
          "text": [
            "[[1 2 3]\n",
            " [4 5 6]\n",
            " [7 8 9]]\n"
          ]
        }
      ]
    },
    {
      "cell_type": "code",
      "source": [
        "type(array_2d)"
      ],
      "metadata": {
        "colab": {
          "base_uri": "https://localhost:8080/"
        },
        "id": "4ociHvHIhuiP",
        "outputId": "46f5c422-4d76-4d53-e315-b697017b8b16"
      },
      "execution_count": 9,
      "outputs": [
        {
          "output_type": "execute_result",
          "data": {
            "text/plain": [
              "numpy.ndarray"
            ]
          },
          "metadata": {},
          "execution_count": 9
        }
      ]
    },
    {
      "cell_type": "markdown",
      "source": [
        "## 3D array"
      ],
      "metadata": {
        "id": "IHAwZ0o1hwCE"
      }
    },
    {
      "cell_type": "code",
      "source": [
        "array_3d = np.array([[[1, 2],[True, 4]],[[5.0, 6],[7, 8]],[[9, 10], [11, 12]]])\n",
        "\n",
        "print(array_3d)"
      ],
      "metadata": {
        "colab": {
          "base_uri": "https://localhost:8080/"
        },
        "id": "WJhgGWZLh_9w",
        "outputId": "9fe7107c-cb4f-4d07-bf00-0438c8c4f900"
      },
      "execution_count": 17,
      "outputs": [
        {
          "output_type": "stream",
          "name": "stdout",
          "text": [
            "[[[ 1.  2.]\n",
            "  [ 1.  4.]]\n",
            "\n",
            " [[ 5.  6.]\n",
            "  [ 7.  8.]]\n",
            "\n",
            " [[ 9. 10.]\n",
            "  [11. 12.]]]\n"
          ]
        }
      ]
    },
    {
      "cell_type": "code",
      "source": [
        "type(array_3d)"
      ],
      "metadata": {
        "colab": {
          "base_uri": "https://localhost:8080/"
        },
        "id": "j_JJ9aIKiVvd",
        "outputId": "cfb81c37-5caa-481a-b3d8-65cb9a5806fa"
      },
      "execution_count": 18,
      "outputs": [
        {
          "output_type": "execute_result",
          "data": {
            "text/plain": [
              "numpy.ndarray"
            ]
          },
          "metadata": {},
          "execution_count": 18
        }
      ]
    },
    {
      "cell_type": "code",
      "source": [
        "array_2d.ndim"
      ],
      "metadata": {
        "colab": {
          "base_uri": "https://localhost:8080/"
        },
        "id": "1GDkTJ-zi1Lf",
        "outputId": "9abb1d3d-6987-49ed-8230-31316923b5de"
      },
      "execution_count": 19,
      "outputs": [
        {
          "output_type": "execute_result",
          "data": {
            "text/plain": [
              "2"
            ]
          },
          "metadata": {},
          "execution_count": 19
        }
      ]
    },
    {
      "cell_type": "code",
      "source": [
        "array_3d.ndim"
      ],
      "metadata": {
        "colab": {
          "base_uri": "https://localhost:8080/"
        },
        "id": "Iu0nxyLknQyy",
        "outputId": "550e487c-2f29-4f9e-9cd4-f4e968500f7b"
      },
      "execution_count": 20,
      "outputs": [
        {
          "output_type": "execute_result",
          "data": {
            "text/plain": [
              "3"
            ]
          },
          "metadata": {},
          "execution_count": 20
        }
      ]
    },
    {
      "cell_type": "code",
      "source": [
        "array_from_a_list.shape"
      ],
      "metadata": {
        "colab": {
          "base_uri": "https://localhost:8080/"
        },
        "id": "itvvAEF5nSYY",
        "outputId": "4e18714f-9066-4e05-e419-39d64dcb1ee7"
      },
      "execution_count": 21,
      "outputs": [
        {
          "output_type": "execute_result",
          "data": {
            "text/plain": [
              "(5,)"
            ]
          },
          "metadata": {},
          "execution_count": 21
        }
      ]
    },
    {
      "cell_type": "code",
      "source": [
        "array_2d.shape"
      ],
      "metadata": {
        "colab": {
          "base_uri": "https://localhost:8080/"
        },
        "id": "KF1k_lC4n66W",
        "outputId": "cd426a00-d147-4a67-88f9-8b476de664ac"
      },
      "execution_count": 22,
      "outputs": [
        {
          "output_type": "execute_result",
          "data": {
            "text/plain": [
              "(3, 3)"
            ]
          },
          "metadata": {},
          "execution_count": 22
        }
      ]
    },
    {
      "cell_type": "code",
      "source": [
        "array_3d.shape"
      ],
      "metadata": {
        "colab": {
          "base_uri": "https://localhost:8080/"
        },
        "id": "o8JrJUXToBn0",
        "outputId": "cc57aeac-9bd1-4910-ad46-e76a6c37c333"
      },
      "execution_count": 23,
      "outputs": [
        {
          "output_type": "execute_result",
          "data": {
            "text/plain": [
              "(3, 2, 2)"
            ]
          },
          "metadata": {},
          "execution_count": 23
        }
      ]
    },
    {
      "cell_type": "code",
      "source": [
        "trial = np.array([1, 3, 'hey', 4], dtype = 'U')"
      ],
      "metadata": {
        "id": "lQmuQIZ5oDU7"
      },
      "execution_count": 26,
      "outputs": []
    },
    {
      "cell_type": "code",
      "source": [
        "print(trial)"
      ],
      "metadata": {
        "colab": {
          "base_uri": "https://localhost:8080/"
        },
        "id": "2zCsTshEpJ8D",
        "outputId": "d0122f17-d837-4434-efc3-2fd3c3d9ceab"
      },
      "execution_count": 27,
      "outputs": [
        {
          "output_type": "stream",
          "name": "stdout",
          "text": [
            "['1' '3' 'hey' '4']\n"
          ]
        }
      ]
    },
    {
      "cell_type": "markdown",
      "source": [
        "If you create an np.array with mixed data types, like np.array([1, 2, \"Hello\", 4]), NumPy does not throw an error. Instead, it implicitly typecasts all elements to a single, most accommodating data type.\n",
        "\n",
        "How typecasting works\n",
        "When you pass a list of mixed-type Python objects to np.array(), NumPy follows a set of promotion rules to find the most suitable common data type for all elements.\n",
        "Find the most complex type: NumPy scans the input list to identify the most complex or flexible data type. The hierarchy for standard Python objects is: integers are simpler than floats, which are simpler than strings.\n",
        "Promote all elements: Once the most accommodating type is found, NumPy converts every other element into that type.\n",
        "Resulting dtype: The new array's dtype attribute will reflect the common data type.\n",
        "\n",
        "For np.array([1, 2, \"Hello\", 4]):\n",
        "The elements are two integers (1, 2), one string (\"Hello\"), and another integer (4).\n",
        "The string \"Hello\" is the most complex type.\n",
        "NumPy converts the integers 1, 2, and 4 into string representations '1', '2', and '4'.\n",
        "The resulting array is array(['1', '2', 'Hello', '4']) with a dtype of <U5 (Unicode string with a maximum length of 5).\n",
        "\n",
        "Why no error is shown\n",
        "An error is not shown because NumPy's type promotion is designed to automatically handle mixed types by casting up to the most general type possible. It does this to maintain its core principle of working with homogeneous data and to avoid a crash when a simple conversion is possible.\n",
        "Explicit vs. implicit conversion: NumPy will only throw an error if you explicitly tell it to convert to an incompatible data type. For example, if you were to force your array to an integer dtype, it would fail because the string \"Hello\" cannot be converted to an integer.\n",
        "A \"best guess\" approach: By automatically casting, NumPy makes a \"best guess\" at what the user intended to do when faced with mixed data. This behavior is convenient but can hide potential performance issues if not used with care."
      ],
      "metadata": {
        "id": "nkrUCj9dpSe0"
      }
    },
    {
      "cell_type": "code",
      "source": [
        "array_3d.dtype"
      ],
      "metadata": {
        "colab": {
          "base_uri": "https://localhost:8080/"
        },
        "id": "vaniKo96sLLc",
        "outputId": "fb6accb7-80fe-47ce-afd5-3198ffcdd007"
      },
      "execution_count": 28,
      "outputs": [
        {
          "output_type": "execute_result",
          "data": {
            "text/plain": [
              "dtype('float64')"
            ]
          },
          "metadata": {},
          "execution_count": 28
        }
      ]
    },
    {
      "cell_type": "code",
      "source": [
        "array_ = np.array([5, -7.4, 'Hey', 7.4, True])"
      ],
      "metadata": {
        "id": "JjzDp6Z1sUv5"
      },
      "execution_count": 29,
      "outputs": []
    },
    {
      "cell_type": "code",
      "source": [
        "array_.dtype"
      ],
      "metadata": {
        "colab": {
          "base_uri": "https://localhost:8080/"
        },
        "id": "VOjaX40WtNdd",
        "outputId": "9954fe9d-0467-437a-eb42-d7eb8f3af7ba"
      },
      "execution_count": 30,
      "outputs": [
        {
          "output_type": "execute_result",
          "data": {
            "text/plain": [
              "dtype('<U32')"
            ]
          },
          "metadata": {},
          "execution_count": 30
        }
      ]
    },
    {
      "cell_type": "markdown",
      "source": [
        "itemsize returns the size in bytes of each element present in array"
      ],
      "metadata": {
        "id": "Q6ETSECetPK6"
      }
    },
    {
      "cell_type": "code",
      "source": [
        "print(f\"item size of array_ is: {array_.itemsize}\")"
      ],
      "metadata": {
        "colab": {
          "base_uri": "https://localhost:8080/"
        },
        "id": "LJEsuWZk3gpi",
        "outputId": "ad0be177-faee-4066-e8a3-63e766201f56"
      },
      "execution_count": 31,
      "outputs": [
        {
          "output_type": "stream",
          "name": "stdout",
          "text": [
            "item size of array_ is: 128\n"
          ]
        }
      ]
    },
    {
      "cell_type": "markdown",
      "source": [
        "data provides a direct buffer to the memory location where the actual array is present or stored"
      ],
      "metadata": {
        "id": "PUTxuqiv3nFj"
      }
    },
    {
      "cell_type": "code",
      "source": [
        "print(f\"Data buffere is actually present at memory location: {array_.data}\")"
      ],
      "metadata": {
        "colab": {
          "base_uri": "https://localhost:8080/"
        },
        "id": "HWcstLRR4kcs",
        "outputId": "06e67936-91bb-483e-81db-db0ca2d7962f"
      },
      "execution_count": 32,
      "outputs": [
        {
          "output_type": "stream",
          "name": "stdout",
          "text": [
            "Data buffere is actually present at memory location: <memory at 0x788c7531ee00>\n"
          ]
        }
      ]
    },
    {
      "cell_type": "markdown",
      "source": [
        "## Indexing and slicing in NumPy"
      ],
      "metadata": {
        "id": "7TDqCY_L4p_N"
      }
    },
    {
      "cell_type": "code",
      "source": [
        "array_from_a_list"
      ],
      "metadata": {
        "colab": {
          "base_uri": "https://localhost:8080/"
        },
        "id": "haWIGxwm4tbv",
        "outputId": "a120c03b-2024-41da-85a5-8f009e1fc963"
      },
      "execution_count": 33,
      "outputs": [
        {
          "output_type": "execute_result",
          "data": {
            "text/plain": [
              "array([1, 2, 3, 4, 5])"
            ]
          },
          "metadata": {},
          "execution_count": 33
        }
      ]
    },
    {
      "cell_type": "code",
      "source": [
        "array_2d"
      ],
      "metadata": {
        "colab": {
          "base_uri": "https://localhost:8080/"
        },
        "id": "UXib0xAw47Z-",
        "outputId": "e24b1bd6-1f14-445a-e5e8-99d6030957c7"
      },
      "execution_count": 34,
      "outputs": [
        {
          "output_type": "execute_result",
          "data": {
            "text/plain": [
              "array([[1, 2, 3],\n",
              "       [4, 5, 6],\n",
              "       [7, 8, 9]])"
            ]
          },
          "metadata": {},
          "execution_count": 34
        }
      ]
    },
    {
      "cell_type": "code",
      "source": [
        "array_3d"
      ],
      "metadata": {
        "colab": {
          "base_uri": "https://localhost:8080/"
        },
        "id": "Ylpu3pl-4-oN",
        "outputId": "de7f5287-25ce-41ec-dba4-61bed5b9f217"
      },
      "execution_count": 35,
      "outputs": [
        {
          "output_type": "execute_result",
          "data": {
            "text/plain": [
              "array([[[ 1.,  2.],\n",
              "        [ 1.,  4.]],\n",
              "\n",
              "       [[ 5.,  6.],\n",
              "        [ 7.,  8.]],\n",
              "\n",
              "       [[ 9., 10.],\n",
              "        [11., 12.]]])"
            ]
          },
          "metadata": {},
          "execution_count": 35
        }
      ]
    },
    {
      "cell_type": "code",
      "source": [
        "print(array_from_a_list[2])"
      ],
      "metadata": {
        "colab": {
          "base_uri": "https://localhost:8080/"
        },
        "id": "LTlSjLM-4_sa",
        "outputId": "1c1ab898-fcf8-4830-8911-ff95c0572def"
      },
      "execution_count": 36,
      "outputs": [
        {
          "output_type": "stream",
          "name": "stdout",
          "text": [
            "3\n"
          ]
        }
      ]
    },
    {
      "cell_type": "code",
      "source": [
        "print(array_2d[1])"
      ],
      "metadata": {
        "colab": {
          "base_uri": "https://localhost:8080/"
        },
        "id": "Ao737xbB5GlU",
        "outputId": "f9b33445-7778-43a8-ee1e-9445b35ed0ca"
      },
      "execution_count": 39,
      "outputs": [
        {
          "output_type": "stream",
          "name": "stdout",
          "text": [
            "[4 5 6]\n"
          ]
        }
      ]
    },
    {
      "cell_type": "code",
      "source": [
        "print(array_3d[0])"
      ],
      "metadata": {
        "colab": {
          "base_uri": "https://localhost:8080/"
        },
        "id": "FrDyp6vA5Jrd",
        "outputId": "770a82b5-a759-4d6b-b2e0-d2927daecd28"
      },
      "execution_count": 40,
      "outputs": [
        {
          "output_type": "stream",
          "name": "stdout",
          "text": [
            "[[1. 2.]\n",
            " [1. 4.]]\n"
          ]
        }
      ]
    },
    {
      "cell_type": "code",
      "source": [
        "print(array_2d[2][2])"
      ],
      "metadata": {
        "colab": {
          "base_uri": "https://localhost:8080/"
        },
        "id": "tP3jtXSn5ML_",
        "outputId": "734d6867-35fc-41df-97a3-7f4590478033"
      },
      "execution_count": 41,
      "outputs": [
        {
          "output_type": "stream",
          "name": "stdout",
          "text": [
            "9\n"
          ]
        }
      ]
    },
    {
      "cell_type": "code",
      "source": [
        "print(array_2d[2, 2])"
      ],
      "metadata": {
        "colab": {
          "base_uri": "https://localhost:8080/"
        },
        "id": "hBx0G1ci5V4t",
        "outputId": "a19decb1-6d55-4e8a-8cd0-6ddcb694cd14"
      },
      "execution_count": 42,
      "outputs": [
        {
          "output_type": "stream",
          "name": "stdout",
          "text": [
            "9\n"
          ]
        }
      ]
    },
    {
      "cell_type": "code",
      "source": [
        "print(array_3d[1, 1, 1])"
      ],
      "metadata": {
        "colab": {
          "base_uri": "https://localhost:8080/"
        },
        "id": "N6er3Xqt5Y_j",
        "outputId": "0fe7f0d2-e4e9-4b2e-b25a-b4ffd2456c6f"
      },
      "execution_count": 43,
      "outputs": [
        {
          "output_type": "stream",
          "name": "stdout",
          "text": [
            "8.0\n"
          ]
        }
      ]
    },
    {
      "cell_type": "code",
      "source": [
        "print(array_3d[1][1][1])"
      ],
      "metadata": {
        "colab": {
          "base_uri": "https://localhost:8080/"
        },
        "id": "x5Utbq685mNY",
        "outputId": "c0a671fe-f3e2-4d09-9211-fc4c779aa2ee"
      },
      "execution_count": 44,
      "outputs": [
        {
          "output_type": "stream",
          "name": "stdout",
          "text": [
            "8.0\n"
          ]
        }
      ]
    },
    {
      "cell_type": "code",
      "source": [
        "print(array_3d[1, 1][1])"
      ],
      "metadata": {
        "colab": {
          "base_uri": "https://localhost:8080/"
        },
        "id": "fVp7teXE5qvU",
        "outputId": "c9d8ee64-5552-4861-8099-1ea288a2cc7e"
      },
      "execution_count": 45,
      "outputs": [
        {
          "output_type": "stream",
          "name": "stdout",
          "text": [
            "8.0\n"
          ]
        }
      ]
    },
    {
      "cell_type": "code",
      "source": [
        "print(array_from_a_list[1: 4])"
      ],
      "metadata": {
        "colab": {
          "base_uri": "https://localhost:8080/"
        },
        "id": "Rk_aAJR65uHs",
        "outputId": "31871c91-572f-4dd2-9fa4-800957477c6f"
      },
      "execution_count": 46,
      "outputs": [
        {
          "output_type": "stream",
          "name": "stdout",
          "text": [
            "[2 3 4]\n"
          ]
        }
      ]
    },
    {
      "cell_type": "code",
      "source": [
        "print(array_2d[1:3])"
      ],
      "metadata": {
        "colab": {
          "base_uri": "https://localhost:8080/"
        },
        "id": "cjIPA0lR59o2",
        "outputId": "4394861d-3f6d-4548-b82f-dcabc9807bbe"
      },
      "execution_count": 47,
      "outputs": [
        {
          "output_type": "stream",
          "name": "stdout",
          "text": [
            "[[4 5 6]\n",
            " [7 8 9]]\n"
          ]
        }
      ]
    },
    {
      "cell_type": "code",
      "source": [
        "print(array_2d[1:3, 1:2])"
      ],
      "metadata": {
        "colab": {
          "base_uri": "https://localhost:8080/"
        },
        "id": "zjvsBWj76AOt",
        "outputId": "9d74addd-0f4e-4751-bb41-1ecd64f5a398"
      },
      "execution_count": 48,
      "outputs": [
        {
          "output_type": "stream",
          "name": "stdout",
          "text": [
            "[[5]\n",
            " [8]]\n"
          ]
        }
      ]
    },
    {
      "cell_type": "code",
      "source": [
        "print(array_2d)"
      ],
      "metadata": {
        "colab": {
          "base_uri": "https://localhost:8080/"
        },
        "id": "OdyyjyvX6FGt",
        "outputId": "130388db-c521-4344-e0a6-c9ff774c6a65"
      },
      "execution_count": 49,
      "outputs": [
        {
          "output_type": "stream",
          "name": "stdout",
          "text": [
            "[[1 2 3]\n",
            " [4 5 6]\n",
            " [7 8 9]]\n"
          ]
        }
      ]
    },
    {
      "cell_type": "code",
      "source": [
        "print(array_2d[0:3, 0:1])"
      ],
      "metadata": {
        "colab": {
          "base_uri": "https://localhost:8080/"
        },
        "id": "D1gPh31n6HxP",
        "outputId": "9d9a28b9-4374-40a2-cded-653c80a17c84"
      },
      "execution_count": 50,
      "outputs": [
        {
          "output_type": "stream",
          "name": "stdout",
          "text": [
            "[[1]\n",
            " [4]\n",
            " [7]]\n"
          ]
        }
      ]
    },
    {
      "cell_type": "code",
      "source": [
        "print(array_2d[0:3][0:1])"
      ],
      "metadata": {
        "colab": {
          "base_uri": "https://localhost:8080/"
        },
        "id": "pU77GiNZ6OOF",
        "outputId": "5c69e588-ebaa-4ef4-d43b-49797230a960"
      },
      "execution_count": 51,
      "outputs": [
        {
          "output_type": "stream",
          "name": "stdout",
          "text": [
            "[[1 2 3]]\n"
          ]
        }
      ]
    },
    {
      "cell_type": "code",
      "source": [
        "print(array_2d[0:3, 0:2][0:1])"
      ],
      "metadata": {
        "colab": {
          "base_uri": "https://localhost:8080/"
        },
        "id": "w5W0r5v66TRq",
        "outputId": "713a7f87-bcb9-4ef0-8221-b9128a4d5126"
      },
      "execution_count": 53,
      "outputs": [
        {
          "output_type": "stream",
          "name": "stdout",
          "text": [
            "[[1 2]]\n"
          ]
        }
      ]
    },
    {
      "cell_type": "code",
      "source": [
        "print(array_2d[0:3][0:2][0:1])"
      ],
      "metadata": {
        "colab": {
          "base_uri": "https://localhost:8080/"
        },
        "id": "ipcXQLb36ahQ",
        "outputId": "c72008ec-275f-488a-b5c8-6e9ad8ae5fc3"
      },
      "execution_count": 55,
      "outputs": [
        {
          "output_type": "stream",
          "name": "stdout",
          "text": [
            "[[1 2 3]]\n"
          ]
        }
      ]
    },
    {
      "cell_type": "markdown",
      "source": [
        "upar wale ka work flow aise hoga"
      ],
      "metadata": {
        "id": "OiCx69WF6mk4"
      }
    },
    {
      "cell_type": "code",
      "source": [
        "print(array_2d[0:3])"
      ],
      "metadata": {
        "colab": {
          "base_uri": "https://localhost:8080/"
        },
        "id": "BjOlOHu96rmx",
        "outputId": "55745168-9c1d-4823-b2ae-09237ac155ef"
      },
      "execution_count": 61,
      "outputs": [
        {
          "output_type": "stream",
          "name": "stdout",
          "text": [
            "[[1 2 3]\n",
            " [4 5 6]\n",
            " [7 8 9]]\n"
          ]
        }
      ]
    },
    {
      "cell_type": "code",
      "source": [
        "print(array_2d[0:3][0:2])"
      ],
      "metadata": {
        "colab": {
          "base_uri": "https://localhost:8080/"
        },
        "id": "0Vi36q2i65-I",
        "outputId": "8e02389b-bcfd-4a45-e097-14f0f7e13a87"
      },
      "execution_count": 62,
      "outputs": [
        {
          "output_type": "stream",
          "name": "stdout",
          "text": [
            "[[1 2 3]\n",
            " [4 5 6]]\n"
          ]
        }
      ]
    },
    {
      "cell_type": "code",
      "source": [
        "print(array_2d[0:3][0:2][0:1])"
      ],
      "metadata": {
        "colab": {
          "base_uri": "https://localhost:8080/"
        },
        "id": "5HI8reC268kP",
        "outputId": "e942ca38-b13a-4562-e63d-7fa40bcb49d3"
      },
      "execution_count": 63,
      "outputs": [
        {
          "output_type": "stream",
          "name": "stdout",
          "text": [
            "[[1 2 3]]\n"
          ]
        }
      ]
    },
    {
      "cell_type": "code",
      "source": [
        "print(array_2d[0:3][0:2][0:1, 0:2])"
      ],
      "metadata": {
        "colab": {
          "base_uri": "https://localhost:8080/"
        },
        "id": "vNBj6QUT7Acv",
        "outputId": "8cc2961f-c60e-4cda-c4bb-148f6c19b936"
      },
      "execution_count": 66,
      "outputs": [
        {
          "output_type": "stream",
          "name": "stdout",
          "text": [
            "[[1 2]]\n"
          ]
        }
      ]
    },
    {
      "cell_type": "code",
      "source": [
        "array_3d"
      ],
      "metadata": {
        "colab": {
          "base_uri": "https://localhost:8080/"
        },
        "id": "1TBCfOCG7HFu",
        "outputId": "e00253bd-9bec-43c4-93ab-8907634502e1"
      },
      "execution_count": 67,
      "outputs": [
        {
          "output_type": "execute_result",
          "data": {
            "text/plain": [
              "array([[[ 1.,  2.],\n",
              "        [ 1.,  4.]],\n",
              "\n",
              "       [[ 5.,  6.],\n",
              "        [ 7.,  8.]],\n",
              "\n",
              "       [[ 9., 10.],\n",
              "        [11., 12.]]])"
            ]
          },
          "metadata": {},
          "execution_count": 67
        }
      ]
    },
    {
      "cell_type": "code",
      "source": [
        "print(array_3d[0:])"
      ],
      "metadata": {
        "colab": {
          "base_uri": "https://localhost:8080/"
        },
        "id": "qtanwyws87IP",
        "outputId": "7e500cf1-8e7a-4ca6-a85d-1436eb2cf3a1"
      },
      "execution_count": 68,
      "outputs": [
        {
          "output_type": "stream",
          "name": "stdout",
          "text": [
            "[[[ 1.  2.]\n",
            "  [ 1.  4.]]\n",
            "\n",
            " [[ 5.  6.]\n",
            "  [ 7.  8.]]\n",
            "\n",
            " [[ 9. 10.]\n",
            "  [11. 12.]]]\n"
          ]
        }
      ]
    },
    {
      "cell_type": "code",
      "source": [
        "print(array_3d[0:3][0:2])"
      ],
      "metadata": {
        "colab": {
          "base_uri": "https://localhost:8080/"
        },
        "id": "mr04nXCU9AV1",
        "outputId": "db593ef2-b052-493b-b1cb-d79fe536ceae"
      },
      "execution_count": 69,
      "outputs": [
        {
          "output_type": "stream",
          "name": "stdout",
          "text": [
            "[[[1. 2.]\n",
            "  [1. 4.]]\n",
            "\n",
            " [[5. 6.]\n",
            "  [7. 8.]]]\n"
          ]
        }
      ]
    },
    {
      "cell_type": "code",
      "source": [
        "print(array_3d[0:3][0:2][0:1])"
      ],
      "metadata": {
        "colab": {
          "base_uri": "https://localhost:8080/"
        },
        "id": "19FWUTNr9GeT",
        "outputId": "f9a052f2-7134-44c2-b71d-1dd7b08d99ef"
      },
      "execution_count": 70,
      "outputs": [
        {
          "output_type": "stream",
          "name": "stdout",
          "text": [
            "[[[1. 2.]\n",
            "  [1. 4.]]]\n"
          ]
        }
      ]
    },
    {
      "cell_type": "code",
      "source": [
        "print(array_3d[0:3][0:2][0:1][0:1])"
      ],
      "metadata": {
        "colab": {
          "base_uri": "https://localhost:8080/"
        },
        "id": "TG9EO3Xw9LEv",
        "outputId": "fe1e61ee-eaf5-4a3d-afed-73ab533f4d7f"
      },
      "execution_count": 71,
      "outputs": [
        {
          "output_type": "stream",
          "name": "stdout",
          "text": [
            "[[[1. 2.]\n",
            "  [1. 4.]]]\n"
          ]
        }
      ]
    },
    {
      "cell_type": "code",
      "source": [
        "print(array_3d[0:3])"
      ],
      "metadata": {
        "colab": {
          "base_uri": "https://localhost:8080/"
        },
        "id": "g_ONdVqr9QGI",
        "outputId": "d6b5577a-ca24-448b-9b2c-2d5783ddfecf"
      },
      "execution_count": 72,
      "outputs": [
        {
          "output_type": "stream",
          "name": "stdout",
          "text": [
            "[[[ 1.  2.]\n",
            "  [ 1.  4.]]\n",
            "\n",
            " [[ 5.  6.]\n",
            "  [ 7.  8.]]\n",
            "\n",
            " [[ 9. 10.]\n",
            "  [11. 12.]]]\n"
          ]
        }
      ]
    },
    {
      "cell_type": "code",
      "source": [
        "print(array_3d[0:3, 0:2])"
      ],
      "metadata": {
        "colab": {
          "base_uri": "https://localhost:8080/"
        },
        "id": "jkCxFD5G9TEa",
        "outputId": "bfc17f29-f843-447f-e345-eeca8dc4fdd3"
      },
      "execution_count": 73,
      "outputs": [
        {
          "output_type": "stream",
          "name": "stdout",
          "text": [
            "[[[ 1.  2.]\n",
            "  [ 1.  4.]]\n",
            "\n",
            " [[ 5.  6.]\n",
            "  [ 7.  8.]]\n",
            "\n",
            " [[ 9. 10.]\n",
            "  [11. 12.]]]\n"
          ]
        }
      ]
    },
    {
      "cell_type": "code",
      "source": [
        "print(array_3d[0:3,0:2,0:1])"
      ],
      "metadata": {
        "colab": {
          "base_uri": "https://localhost:8080/"
        },
        "id": "byWTSz2D9WLq",
        "outputId": "5592d58a-86f6-40ce-cad1-a3e9e76dd740"
      },
      "execution_count": 74,
      "outputs": [
        {
          "output_type": "stream",
          "name": "stdout",
          "text": [
            "[[[ 1.]\n",
            "  [ 1.]]\n",
            "\n",
            " [[ 5.]\n",
            "  [ 7.]]\n",
            "\n",
            " [[ 9.]\n",
            "  [11.]]]\n"
          ]
        }
      ]
    },
    {
      "cell_type": "code",
      "source": [],
      "metadata": {
        "id": "5lSDbZVM9bH5"
      },
      "execution_count": null,
      "outputs": []
    }
  ]
}