{
  "nbformat": 4,
  "nbformat_minor": 0,
  "metadata": {
    "colab": {
      "provenance": []
    },
    "kernelspec": {
      "name": "python3",
      "display_name": "Python 3"
    },
    "language_info": {
      "name": "python"
    }
  },
  "cells": [
    {
      "cell_type": "markdown",
      "source": [
        "# NumPy"
      ],
      "metadata": {
        "id": "RFu-kFhGbWow"
      }
    },
    {
      "cell_type": "code",
      "execution_count": 1,
      "metadata": {
        "id": "8QkAup7JTjFo"
      },
      "outputs": [],
      "source": [
        "import numpy as np"
      ]
    },
    {
      "cell_type": "markdown",
      "source": [
        "## Creation of a numpy array from a list"
      ],
      "metadata": {
        "id": "Kw74LWNEbRW-"
      }
    },
    {
      "cell_type": "code",
      "source": [
        "array_from_a_list = np.array([1, 2, 3, 4, 5])\n",
        "print(array_from_a_list)"
      ],
      "metadata": {
        "colab": {
          "base_uri": "https://localhost:8080/"
        },
        "id": "XXII4sGnbVgi",
        "outputId": "32de7896-1e8c-4a46-c009-5224b95dd616"
      },
      "execution_count": 2,
      "outputs": [
        {
          "output_type": "stream",
          "name": "stdout",
          "text": [
            "[1 2 3 4 5]\n"
          ]
        }
      ]
    },
    {
      "cell_type": "code",
      "source": [
        "type(array_from_a_list)"
      ],
      "metadata": {
        "colab": {
          "base_uri": "https://localhost:8080/"
        },
        "id": "WjuQVuqvbgEu",
        "outputId": "ed5ad596-e955-4525-9c45-55be252b89c3"
      },
      "execution_count": 3,
      "outputs": [
        {
          "output_type": "execute_result",
          "data": {
            "text/plain": [
              "numpy.ndarray"
            ]
          },
          "metadata": {},
          "execution_count": 3
        }
      ]
    },
    {
      "cell_type": "code",
      "source": [
        "array_from_tuple = np.array((1, 2, 3, 4, 5))\n",
        "print(array_from_tuple)"
      ],
      "metadata": {
        "colab": {
          "base_uri": "https://localhost:8080/"
        },
        "id": "wxt1Fm9ZbxHR",
        "outputId": "c34b5355-28e2-44e5-8f57-93b5356e48ff"
      },
      "execution_count": 4,
      "outputs": [
        {
          "output_type": "stream",
          "name": "stdout",
          "text": [
            "[1 2 3 4 5]\n"
          ]
        }
      ]
    },
    {
      "cell_type": "markdown",
      "source": [
        "## 2D array"
      ],
      "metadata": {
        "id": "7Md9LlYhb5nJ"
      }
    },
    {
      "cell_type": "code",
      "source": [
        "array_2d = np.array(\n",
        "    [\n",
        "      [1, 2, 3],\n",
        "      [4, 5, 6],\n",
        "      [7, 8, 9]\n",
        "    ]\n",
        ")"
      ],
      "metadata": {
        "id": "oXxX0TrBhHQl"
      },
      "execution_count": 5,
      "outputs": []
    },
    {
      "cell_type": "code",
      "source": [
        "print(array_2d)"
      ],
      "metadata": {
        "colab": {
          "base_uri": "https://localhost:8080/"
        },
        "id": "jR72Uvj1hs5p",
        "outputId": "61254c91-97bf-4668-a2c8-c7b5e3bc33e5"
      },
      "execution_count": 6,
      "outputs": [
        {
          "output_type": "stream",
          "name": "stdout",
          "text": [
            "[[1 2 3]\n",
            " [4 5 6]\n",
            " [7 8 9]]\n"
          ]
        }
      ]
    },
    {
      "cell_type": "code",
      "source": [
        "type(array_2d)"
      ],
      "metadata": {
        "colab": {
          "base_uri": "https://localhost:8080/"
        },
        "id": "4ociHvHIhuiP",
        "outputId": "d41cac83-c510-4bbf-a8a9-e86f6b73228b"
      },
      "execution_count": 7,
      "outputs": [
        {
          "output_type": "execute_result",
          "data": {
            "text/plain": [
              "numpy.ndarray"
            ]
          },
          "metadata": {},
          "execution_count": 7
        }
      ]
    },
    {
      "cell_type": "markdown",
      "source": [
        "## 3D array"
      ],
      "metadata": {
        "id": "IHAwZ0o1hwCE"
      }
    },
    {
      "cell_type": "code",
      "source": [
        "array_3d = np.array([[[1, 2],[True, 4]],[[5.0, 6],[7, 8]],[[9, 10], [11, 12]]])\n",
        "\n",
        "print(array_3d)"
      ],
      "metadata": {
        "colab": {
          "base_uri": "https://localhost:8080/"
        },
        "id": "WJhgGWZLh_9w",
        "outputId": "47feb578-db0d-429f-a819-b35a9eb8e907"
      },
      "execution_count": 8,
      "outputs": [
        {
          "output_type": "stream",
          "name": "stdout",
          "text": [
            "[[[ 1.  2.]\n",
            "  [ 1.  4.]]\n",
            "\n",
            " [[ 5.  6.]\n",
            "  [ 7.  8.]]\n",
            "\n",
            " [[ 9. 10.]\n",
            "  [11. 12.]]]\n"
          ]
        }
      ]
    },
    {
      "cell_type": "code",
      "source": [
        "type(array_3d)"
      ],
      "metadata": {
        "colab": {
          "base_uri": "https://localhost:8080/"
        },
        "id": "j_JJ9aIKiVvd",
        "outputId": "3c5e2081-004b-4174-b966-8bf375668204"
      },
      "execution_count": 9,
      "outputs": [
        {
          "output_type": "execute_result",
          "data": {
            "text/plain": [
              "numpy.ndarray"
            ]
          },
          "metadata": {},
          "execution_count": 9
        }
      ]
    },
    {
      "cell_type": "code",
      "source": [
        "array_2d.ndim"
      ],
      "metadata": {
        "colab": {
          "base_uri": "https://localhost:8080/"
        },
        "id": "1GDkTJ-zi1Lf",
        "outputId": "c0500843-7904-442c-fe2e-b1aa84b396c8"
      },
      "execution_count": 10,
      "outputs": [
        {
          "output_type": "execute_result",
          "data": {
            "text/plain": [
              "2"
            ]
          },
          "metadata": {},
          "execution_count": 10
        }
      ]
    },
    {
      "cell_type": "code",
      "source": [
        "array_3d.ndim"
      ],
      "metadata": {
        "colab": {
          "base_uri": "https://localhost:8080/"
        },
        "id": "Iu0nxyLknQyy",
        "outputId": "e7987096-67ab-4964-cc9d-dbbbda120047"
      },
      "execution_count": 11,
      "outputs": [
        {
          "output_type": "execute_result",
          "data": {
            "text/plain": [
              "3"
            ]
          },
          "metadata": {},
          "execution_count": 11
        }
      ]
    },
    {
      "cell_type": "code",
      "source": [
        "array_from_a_list.shape"
      ],
      "metadata": {
        "colab": {
          "base_uri": "https://localhost:8080/"
        },
        "id": "itvvAEF5nSYY",
        "outputId": "657f3f8b-086e-452b-db13-1936911a75bd"
      },
      "execution_count": 12,
      "outputs": [
        {
          "output_type": "execute_result",
          "data": {
            "text/plain": [
              "(5,)"
            ]
          },
          "metadata": {},
          "execution_count": 12
        }
      ]
    },
    {
      "cell_type": "code",
      "source": [
        "array_2d.shape"
      ],
      "metadata": {
        "colab": {
          "base_uri": "https://localhost:8080/"
        },
        "id": "KF1k_lC4n66W",
        "outputId": "930e4f3b-65b6-410e-97da-819b42107502"
      },
      "execution_count": 13,
      "outputs": [
        {
          "output_type": "execute_result",
          "data": {
            "text/plain": [
              "(3, 3)"
            ]
          },
          "metadata": {},
          "execution_count": 13
        }
      ]
    },
    {
      "cell_type": "code",
      "source": [
        "array_3d.shape"
      ],
      "metadata": {
        "colab": {
          "base_uri": "https://localhost:8080/"
        },
        "id": "o8JrJUXToBn0",
        "outputId": "619892b1-682b-4608-e29e-ab672a77615c"
      },
      "execution_count": 14,
      "outputs": [
        {
          "output_type": "execute_result",
          "data": {
            "text/plain": [
              "(3, 2, 2)"
            ]
          },
          "metadata": {},
          "execution_count": 14
        }
      ]
    },
    {
      "cell_type": "code",
      "source": [
        "trial = np.array([1, 3, 'hey', 4], dtype = 'U')"
      ],
      "metadata": {
        "id": "lQmuQIZ5oDU7"
      },
      "execution_count": 15,
      "outputs": []
    },
    {
      "cell_type": "code",
      "source": [
        "print(trial)"
      ],
      "metadata": {
        "colab": {
          "base_uri": "https://localhost:8080/"
        },
        "id": "2zCsTshEpJ8D",
        "outputId": "348c4944-d32f-4f41-9359-9ee5c4474fb2"
      },
      "execution_count": 16,
      "outputs": [
        {
          "output_type": "stream",
          "name": "stdout",
          "text": [
            "['1' '3' 'hey' '4']\n"
          ]
        }
      ]
    },
    {
      "cell_type": "markdown",
      "source": [
        "If you create an np.array with mixed data types, like np.array([1, 2, \"Hello\", 4]), NumPy does not throw an error. Instead, it implicitly typecasts all elements to a single, most accommodating data type.\n",
        "\n",
        "How typecasting works\n",
        "When you pass a list of mixed-type Python objects to np.array(), NumPy follows a set of promotion rules to find the most suitable common data type for all elements.\n",
        "Find the most complex type: NumPy scans the input list to identify the most complex or flexible data type. The hierarchy for standard Python objects is: integers are simpler than floats, which are simpler than strings.\n",
        "Promote all elements: Once the most accommodating type is found, NumPy converts every other element into that type.\n",
        "Resulting dtype: The new array's dtype attribute will reflect the common data type.\n",
        "\n",
        "For np.array([1, 2, \"Hello\", 4]):\n",
        "The elements are two integers (1, 2), one string (\"Hello\"), and another integer (4).\n",
        "The string \"Hello\" is the most complex type.\n",
        "NumPy converts the integers 1, 2, and 4 into string representations '1', '2', and '4'.\n",
        "The resulting array is array(['1', '2', 'Hello', '4']) with a dtype of <U5 (Unicode string with a maximum length of 5).\n",
        "\n",
        "Why no error is shown\n",
        "An error is not shown because NumPy's type promotion is designed to automatically handle mixed types by casting up to the most general type possible. It does this to maintain its core principle of working with homogeneous data and to avoid a crash when a simple conversion is possible.\n",
        "Explicit vs. implicit conversion: NumPy will only throw an error if you explicitly tell it to convert to an incompatible data type. For example, if you were to force your array to an integer dtype, it would fail because the string \"Hello\" cannot be converted to an integer.\n",
        "A \"best guess\" approach: By automatically casting, NumPy makes a \"best guess\" at what the user intended to do when faced with mixed data. This behavior is convenient but can hide potential performance issues if not used with care."
      ],
      "metadata": {
        "id": "nkrUCj9dpSe0"
      }
    },
    {
      "cell_type": "code",
      "source": [
        "array_3d.dtype"
      ],
      "metadata": {
        "colab": {
          "base_uri": "https://localhost:8080/"
        },
        "id": "vaniKo96sLLc",
        "outputId": "795fb94f-1669-4f31-ed53-616a2ab64c55"
      },
      "execution_count": 17,
      "outputs": [
        {
          "output_type": "execute_result",
          "data": {
            "text/plain": [
              "dtype('float64')"
            ]
          },
          "metadata": {},
          "execution_count": 17
        }
      ]
    },
    {
      "cell_type": "code",
      "source": [
        "array_ = np.array([5, -7.4, 'Hey', 7.4, True])"
      ],
      "metadata": {
        "id": "JjzDp6Z1sUv5"
      },
      "execution_count": 18,
      "outputs": []
    },
    {
      "cell_type": "code",
      "source": [
        "array_.dtype"
      ],
      "metadata": {
        "colab": {
          "base_uri": "https://localhost:8080/"
        },
        "id": "VOjaX40WtNdd",
        "outputId": "2b901253-8405-4be0-e2dc-e0da19247b18"
      },
      "execution_count": 19,
      "outputs": [
        {
          "output_type": "execute_result",
          "data": {
            "text/plain": [
              "dtype('<U32')"
            ]
          },
          "metadata": {},
          "execution_count": 19
        }
      ]
    },
    {
      "cell_type": "markdown",
      "source": [
        "itemsize returns the size in bytes of each element present in array"
      ],
      "metadata": {
        "id": "Q6ETSECetPK6"
      }
    },
    {
      "cell_type": "code",
      "source": [
        "print(f\"item size of array_ is: {array_.itemsize}\")"
      ],
      "metadata": {
        "colab": {
          "base_uri": "https://localhost:8080/"
        },
        "id": "LJEsuWZk3gpi",
        "outputId": "02b64ef7-4d1d-48eb-ac4e-c266390f7fdb"
      },
      "execution_count": 20,
      "outputs": [
        {
          "output_type": "stream",
          "name": "stdout",
          "text": [
            "item size of array_ is: 128\n"
          ]
        }
      ]
    },
    {
      "cell_type": "markdown",
      "source": [
        "data provides a direct buffer to the memory location where the actual array is present or stored"
      ],
      "metadata": {
        "id": "PUTxuqiv3nFj"
      }
    },
    {
      "cell_type": "code",
      "source": [
        "print(f\"Data buffere is actually present at memory location: {array_.data}\")"
      ],
      "metadata": {
        "colab": {
          "base_uri": "https://localhost:8080/"
        },
        "id": "HWcstLRR4kcs",
        "outputId": "169c75d6-147f-4a24-85d2-1b8977ae180c"
      },
      "execution_count": 21,
      "outputs": [
        {
          "output_type": "stream",
          "name": "stdout",
          "text": [
            "Data buffere is actually present at memory location: <memory at 0x7e71d99c53c0>\n"
          ]
        }
      ]
    },
    {
      "cell_type": "markdown",
      "source": [
        "## Indexing and slicing in NumPy"
      ],
      "metadata": {
        "id": "7TDqCY_L4p_N"
      }
    },
    {
      "cell_type": "code",
      "source": [
        "array_from_a_list"
      ],
      "metadata": {
        "colab": {
          "base_uri": "https://localhost:8080/"
        },
        "id": "haWIGxwm4tbv",
        "outputId": "12f7a49e-e99a-4e57-c891-31ebb8ba17ec"
      },
      "execution_count": 22,
      "outputs": [
        {
          "output_type": "execute_result",
          "data": {
            "text/plain": [
              "array([1, 2, 3, 4, 5])"
            ]
          },
          "metadata": {},
          "execution_count": 22
        }
      ]
    },
    {
      "cell_type": "code",
      "source": [
        "array_2d"
      ],
      "metadata": {
        "colab": {
          "base_uri": "https://localhost:8080/"
        },
        "id": "UXib0xAw47Z-",
        "outputId": "9e19484d-2b93-44c5-beef-c4d8b258a345"
      },
      "execution_count": 23,
      "outputs": [
        {
          "output_type": "execute_result",
          "data": {
            "text/plain": [
              "array([[1, 2, 3],\n",
              "       [4, 5, 6],\n",
              "       [7, 8, 9]])"
            ]
          },
          "metadata": {},
          "execution_count": 23
        }
      ]
    },
    {
      "cell_type": "code",
      "source": [
        "array_3d"
      ],
      "metadata": {
        "colab": {
          "base_uri": "https://localhost:8080/"
        },
        "id": "Ylpu3pl-4-oN",
        "outputId": "096a806f-b14d-4b14-c5b8-fab8d4cb06f5"
      },
      "execution_count": 24,
      "outputs": [
        {
          "output_type": "execute_result",
          "data": {
            "text/plain": [
              "array([[[ 1.,  2.],\n",
              "        [ 1.,  4.]],\n",
              "\n",
              "       [[ 5.,  6.],\n",
              "        [ 7.,  8.]],\n",
              "\n",
              "       [[ 9., 10.],\n",
              "        [11., 12.]]])"
            ]
          },
          "metadata": {},
          "execution_count": 24
        }
      ]
    },
    {
      "cell_type": "code",
      "source": [
        "print(array_from_a_list[2])"
      ],
      "metadata": {
        "colab": {
          "base_uri": "https://localhost:8080/"
        },
        "id": "LTlSjLM-4_sa",
        "outputId": "9dd2ec7c-3c69-4b38-e729-8a5963a6fcbe"
      },
      "execution_count": 25,
      "outputs": [
        {
          "output_type": "stream",
          "name": "stdout",
          "text": [
            "3\n"
          ]
        }
      ]
    },
    {
      "cell_type": "code",
      "source": [
        "print(array_2d[1])"
      ],
      "metadata": {
        "colab": {
          "base_uri": "https://localhost:8080/"
        },
        "id": "Ao737xbB5GlU",
        "outputId": "b9770bab-b50b-4a5b-bdac-b5552894090c"
      },
      "execution_count": 26,
      "outputs": [
        {
          "output_type": "stream",
          "name": "stdout",
          "text": [
            "[4 5 6]\n"
          ]
        }
      ]
    },
    {
      "cell_type": "code",
      "source": [
        "print(array_3d[0])"
      ],
      "metadata": {
        "colab": {
          "base_uri": "https://localhost:8080/"
        },
        "id": "FrDyp6vA5Jrd",
        "outputId": "8432a3c1-61a0-4fee-bf78-87c403e10f1f"
      },
      "execution_count": 27,
      "outputs": [
        {
          "output_type": "stream",
          "name": "stdout",
          "text": [
            "[[1. 2.]\n",
            " [1. 4.]]\n"
          ]
        }
      ]
    },
    {
      "cell_type": "code",
      "source": [
        "print(array_2d[2][2])"
      ],
      "metadata": {
        "colab": {
          "base_uri": "https://localhost:8080/"
        },
        "id": "tP3jtXSn5ML_",
        "outputId": "fb4ff163-c08f-4bfe-fe12-ae1f611a7f77"
      },
      "execution_count": 28,
      "outputs": [
        {
          "output_type": "stream",
          "name": "stdout",
          "text": [
            "9\n"
          ]
        }
      ]
    },
    {
      "cell_type": "code",
      "source": [
        "print(array_2d[2, 2])"
      ],
      "metadata": {
        "colab": {
          "base_uri": "https://localhost:8080/"
        },
        "id": "hBx0G1ci5V4t",
        "outputId": "2a9dc401-d21a-413f-d7ad-7db7962386dd"
      },
      "execution_count": 29,
      "outputs": [
        {
          "output_type": "stream",
          "name": "stdout",
          "text": [
            "9\n"
          ]
        }
      ]
    },
    {
      "cell_type": "code",
      "source": [
        "print(array_3d[1, 1, 1])"
      ],
      "metadata": {
        "colab": {
          "base_uri": "https://localhost:8080/"
        },
        "id": "N6er3Xqt5Y_j",
        "outputId": "47a59736-3ef6-41d7-ee6c-a1a4597513d4"
      },
      "execution_count": 30,
      "outputs": [
        {
          "output_type": "stream",
          "name": "stdout",
          "text": [
            "8.0\n"
          ]
        }
      ]
    },
    {
      "cell_type": "code",
      "source": [
        "print(array_3d[1][1][1])"
      ],
      "metadata": {
        "colab": {
          "base_uri": "https://localhost:8080/"
        },
        "id": "x5Utbq685mNY",
        "outputId": "3c5054e2-32f3-4f68-b57d-6ff82957c2ac"
      },
      "execution_count": 31,
      "outputs": [
        {
          "output_type": "stream",
          "name": "stdout",
          "text": [
            "8.0\n"
          ]
        }
      ]
    },
    {
      "cell_type": "code",
      "source": [
        "print(array_3d[1, 1][1])"
      ],
      "metadata": {
        "colab": {
          "base_uri": "https://localhost:8080/"
        },
        "id": "fVp7teXE5qvU",
        "outputId": "e47c671b-6513-4912-991e-db30fd040185"
      },
      "execution_count": 32,
      "outputs": [
        {
          "output_type": "stream",
          "name": "stdout",
          "text": [
            "8.0\n"
          ]
        }
      ]
    },
    {
      "cell_type": "code",
      "source": [
        "print(array_from_a_list[1: 4])"
      ],
      "metadata": {
        "colab": {
          "base_uri": "https://localhost:8080/"
        },
        "id": "Rk_aAJR65uHs",
        "outputId": "3aa00438-185c-43fe-f696-d3e23abbdcb1"
      },
      "execution_count": 33,
      "outputs": [
        {
          "output_type": "stream",
          "name": "stdout",
          "text": [
            "[2 3 4]\n"
          ]
        }
      ]
    },
    {
      "cell_type": "code",
      "source": [
        "print(array_2d[1:3])"
      ],
      "metadata": {
        "colab": {
          "base_uri": "https://localhost:8080/"
        },
        "id": "cjIPA0lR59o2",
        "outputId": "d567ed38-e864-4c1f-da01-b5f2f41b9c29"
      },
      "execution_count": 34,
      "outputs": [
        {
          "output_type": "stream",
          "name": "stdout",
          "text": [
            "[[4 5 6]\n",
            " [7 8 9]]\n"
          ]
        }
      ]
    },
    {
      "cell_type": "code",
      "source": [
        "print(array_2d[1:3, 1:2])"
      ],
      "metadata": {
        "colab": {
          "base_uri": "https://localhost:8080/"
        },
        "id": "zjvsBWj76AOt",
        "outputId": "31fc3607-38e9-46cc-a1d0-fc2f6c0c726e"
      },
      "execution_count": 35,
      "outputs": [
        {
          "output_type": "stream",
          "name": "stdout",
          "text": [
            "[[5]\n",
            " [8]]\n"
          ]
        }
      ]
    },
    {
      "cell_type": "code",
      "source": [
        "print(array_2d)"
      ],
      "metadata": {
        "colab": {
          "base_uri": "https://localhost:8080/"
        },
        "id": "OdyyjyvX6FGt",
        "outputId": "0b1aafed-46a1-4d11-d627-59a39b50df10"
      },
      "execution_count": 36,
      "outputs": [
        {
          "output_type": "stream",
          "name": "stdout",
          "text": [
            "[[1 2 3]\n",
            " [4 5 6]\n",
            " [7 8 9]]\n"
          ]
        }
      ]
    },
    {
      "cell_type": "code",
      "source": [
        "print(array_2d[0:3, 0:1])"
      ],
      "metadata": {
        "colab": {
          "base_uri": "https://localhost:8080/"
        },
        "id": "D1gPh31n6HxP",
        "outputId": "97f2031a-7546-49ec-871c-bc2d976a17b4"
      },
      "execution_count": 37,
      "outputs": [
        {
          "output_type": "stream",
          "name": "stdout",
          "text": [
            "[[1]\n",
            " [4]\n",
            " [7]]\n"
          ]
        }
      ]
    },
    {
      "cell_type": "code",
      "source": [
        "print(array_2d[0:3][0:1])"
      ],
      "metadata": {
        "colab": {
          "base_uri": "https://localhost:8080/"
        },
        "id": "pU77GiNZ6OOF",
        "outputId": "f08c62fc-59d3-45c6-9511-ace5c62fb67d"
      },
      "execution_count": 38,
      "outputs": [
        {
          "output_type": "stream",
          "name": "stdout",
          "text": [
            "[[1 2 3]]\n"
          ]
        }
      ]
    },
    {
      "cell_type": "code",
      "source": [
        "print(array_2d[0:3, 0:2][0:1])"
      ],
      "metadata": {
        "colab": {
          "base_uri": "https://localhost:8080/"
        },
        "id": "w5W0r5v66TRq",
        "outputId": "d3514fdc-b769-480f-b0cc-4fea969ac240"
      },
      "execution_count": 39,
      "outputs": [
        {
          "output_type": "stream",
          "name": "stdout",
          "text": [
            "[[1 2]]\n"
          ]
        }
      ]
    },
    {
      "cell_type": "code",
      "source": [
        "print(array_2d[0:3][0:2][0:1])"
      ],
      "metadata": {
        "colab": {
          "base_uri": "https://localhost:8080/"
        },
        "id": "ipcXQLb36ahQ",
        "outputId": "471fb0ac-c2f0-438d-dd4a-ea1663fb922c"
      },
      "execution_count": 40,
      "outputs": [
        {
          "output_type": "stream",
          "name": "stdout",
          "text": [
            "[[1 2 3]]\n"
          ]
        }
      ]
    },
    {
      "cell_type": "markdown",
      "source": [
        "upar wale ka work flow aise hoga"
      ],
      "metadata": {
        "id": "OiCx69WF6mk4"
      }
    },
    {
      "cell_type": "code",
      "source": [
        "print(array_2d[0:3])"
      ],
      "metadata": {
        "colab": {
          "base_uri": "https://localhost:8080/"
        },
        "id": "BjOlOHu96rmx",
        "outputId": "a67e66ca-5143-4e65-f142-8b6ce2654da3"
      },
      "execution_count": 41,
      "outputs": [
        {
          "output_type": "stream",
          "name": "stdout",
          "text": [
            "[[1 2 3]\n",
            " [4 5 6]\n",
            " [7 8 9]]\n"
          ]
        }
      ]
    },
    {
      "cell_type": "code",
      "source": [
        "print(array_2d[0:3][0:2])"
      ],
      "metadata": {
        "colab": {
          "base_uri": "https://localhost:8080/"
        },
        "id": "0Vi36q2i65-I",
        "outputId": "55caa76e-c712-4133-f18e-58ecf1f6c6dc"
      },
      "execution_count": 42,
      "outputs": [
        {
          "output_type": "stream",
          "name": "stdout",
          "text": [
            "[[1 2 3]\n",
            " [4 5 6]]\n"
          ]
        }
      ]
    },
    {
      "cell_type": "code",
      "source": [
        "print(array_2d[0:3][0:2][0:1])"
      ],
      "metadata": {
        "colab": {
          "base_uri": "https://localhost:8080/"
        },
        "id": "5HI8reC268kP",
        "outputId": "00d6bd88-e7c2-4176-8874-7609ce8aa486"
      },
      "execution_count": 43,
      "outputs": [
        {
          "output_type": "stream",
          "name": "stdout",
          "text": [
            "[[1 2 3]]\n"
          ]
        }
      ]
    },
    {
      "cell_type": "code",
      "source": [
        "print(array_2d[0:3][0:2][0:1, 0:2])"
      ],
      "metadata": {
        "colab": {
          "base_uri": "https://localhost:8080/"
        },
        "id": "vNBj6QUT7Acv",
        "outputId": "55e33eae-1749-4eb0-b7ed-39214429f477"
      },
      "execution_count": 44,
      "outputs": [
        {
          "output_type": "stream",
          "name": "stdout",
          "text": [
            "[[1 2]]\n"
          ]
        }
      ]
    },
    {
      "cell_type": "code",
      "source": [
        "array_3d"
      ],
      "metadata": {
        "colab": {
          "base_uri": "https://localhost:8080/"
        },
        "id": "1TBCfOCG7HFu",
        "outputId": "9e721014-1966-4c49-927f-c97d42c2ac67"
      },
      "execution_count": 45,
      "outputs": [
        {
          "output_type": "execute_result",
          "data": {
            "text/plain": [
              "array([[[ 1.,  2.],\n",
              "        [ 1.,  4.]],\n",
              "\n",
              "       [[ 5.,  6.],\n",
              "        [ 7.,  8.]],\n",
              "\n",
              "       [[ 9., 10.],\n",
              "        [11., 12.]]])"
            ]
          },
          "metadata": {},
          "execution_count": 45
        }
      ]
    },
    {
      "cell_type": "code",
      "source": [
        "print(array_3d[0:])"
      ],
      "metadata": {
        "colab": {
          "base_uri": "https://localhost:8080/"
        },
        "id": "qtanwyws87IP",
        "outputId": "ca764f7e-5ed4-4b42-fb6e-3a5138ca2a4a"
      },
      "execution_count": 46,
      "outputs": [
        {
          "output_type": "stream",
          "name": "stdout",
          "text": [
            "[[[ 1.  2.]\n",
            "  [ 1.  4.]]\n",
            "\n",
            " [[ 5.  6.]\n",
            "  [ 7.  8.]]\n",
            "\n",
            " [[ 9. 10.]\n",
            "  [11. 12.]]]\n"
          ]
        }
      ]
    },
    {
      "cell_type": "code",
      "source": [
        "print(array_3d[0:3][0:2])"
      ],
      "metadata": {
        "colab": {
          "base_uri": "https://localhost:8080/"
        },
        "id": "mr04nXCU9AV1",
        "outputId": "c048ecaa-2589-4e40-9ca0-7841f737ad1a"
      },
      "execution_count": 47,
      "outputs": [
        {
          "output_type": "stream",
          "name": "stdout",
          "text": [
            "[[[1. 2.]\n",
            "  [1. 4.]]\n",
            "\n",
            " [[5. 6.]\n",
            "  [7. 8.]]]\n"
          ]
        }
      ]
    },
    {
      "cell_type": "code",
      "source": [
        "print(array_3d[0:3][0:2][0:1])"
      ],
      "metadata": {
        "colab": {
          "base_uri": "https://localhost:8080/"
        },
        "id": "19FWUTNr9GeT",
        "outputId": "aa146a42-15ac-4e24-b079-45b3c5fe0513"
      },
      "execution_count": 48,
      "outputs": [
        {
          "output_type": "stream",
          "name": "stdout",
          "text": [
            "[[[1. 2.]\n",
            "  [1. 4.]]]\n"
          ]
        }
      ]
    },
    {
      "cell_type": "code",
      "source": [
        "print(array_3d[0:3][0:2][0:1][0:1])"
      ],
      "metadata": {
        "colab": {
          "base_uri": "https://localhost:8080/"
        },
        "id": "TG9EO3Xw9LEv",
        "outputId": "a6bd7b90-663f-4abb-c37c-1bb1995ad0a4"
      },
      "execution_count": 49,
      "outputs": [
        {
          "output_type": "stream",
          "name": "stdout",
          "text": [
            "[[[1. 2.]\n",
            "  [1. 4.]]]\n"
          ]
        }
      ]
    },
    {
      "cell_type": "code",
      "source": [
        "print(array_3d[0:3])"
      ],
      "metadata": {
        "colab": {
          "base_uri": "https://localhost:8080/"
        },
        "id": "g_ONdVqr9QGI",
        "outputId": "5e2ee955-72cb-4e7a-af2b-629c21e0c0cb"
      },
      "execution_count": 50,
      "outputs": [
        {
          "output_type": "stream",
          "name": "stdout",
          "text": [
            "[[[ 1.  2.]\n",
            "  [ 1.  4.]]\n",
            "\n",
            " [[ 5.  6.]\n",
            "  [ 7.  8.]]\n",
            "\n",
            " [[ 9. 10.]\n",
            "  [11. 12.]]]\n"
          ]
        }
      ]
    },
    {
      "cell_type": "code",
      "source": [
        "print(array_3d[0:3, 0:2])"
      ],
      "metadata": {
        "colab": {
          "base_uri": "https://localhost:8080/"
        },
        "id": "jkCxFD5G9TEa",
        "outputId": "7bc232b2-a614-46ba-de55-556019223f3b"
      },
      "execution_count": 51,
      "outputs": [
        {
          "output_type": "stream",
          "name": "stdout",
          "text": [
            "[[[ 1.  2.]\n",
            "  [ 1.  4.]]\n",
            "\n",
            " [[ 5.  6.]\n",
            "  [ 7.  8.]]\n",
            "\n",
            " [[ 9. 10.]\n",
            "  [11. 12.]]]\n"
          ]
        }
      ]
    },
    {
      "cell_type": "code",
      "source": [
        "print(array_3d[0:3,0:2,0:1])"
      ],
      "metadata": {
        "colab": {
          "base_uri": "https://localhost:8080/"
        },
        "id": "byWTSz2D9WLq",
        "outputId": "d09c9901-87ca-42da-bd40-eb046a0abf6a"
      },
      "execution_count": 52,
      "outputs": [
        {
          "output_type": "stream",
          "name": "stdout",
          "text": [
            "[[[ 1.]\n",
            "  [ 1.]]\n",
            "\n",
            " [[ 5.]\n",
            "  [ 7.]]\n",
            "\n",
            " [[ 9.]\n",
            "  [11.]]]\n"
          ]
        }
      ]
    },
    {
      "cell_type": "code",
      "source": [
        "print(array_3d)"
      ],
      "metadata": {
        "id": "5lSDbZVM9bH5",
        "colab": {
          "base_uri": "https://localhost:8080/"
        },
        "outputId": "e99e1c19-92dc-4da2-a039-8c74efdc2deb"
      },
      "execution_count": 53,
      "outputs": [
        {
          "output_type": "stream",
          "name": "stdout",
          "text": [
            "[[[ 1.  2.]\n",
            "  [ 1.  4.]]\n",
            "\n",
            " [[ 5.  6.]\n",
            "  [ 7.  8.]]\n",
            "\n",
            " [[ 9. 10.]\n",
            "  [11. 12.]]]\n"
          ]
        }
      ]
    },
    {
      "cell_type": "code",
      "source": [
        "print(array_3d[0:2, 1, 1:])"
      ],
      "metadata": {
        "colab": {
          "base_uri": "https://localhost:8080/"
        },
        "id": "SH44Gq5KAfBi",
        "outputId": "2df38040-9acb-4df1-b500-b4dd4294859a"
      },
      "execution_count": 54,
      "outputs": [
        {
          "output_type": "stream",
          "name": "stdout",
          "text": [
            "[[4.]\n",
            " [8.]]\n"
          ]
        }
      ]
    },
    {
      "cell_type": "markdown",
      "source": [
        "## Arithmetic Operations"
      ],
      "metadata": {
        "id": "eMPp-BRmA2lw"
      }
    },
    {
      "cell_type": "code",
      "source": [
        "a = np.array([[1, 2], [3, 4]])\n",
        "b = np.array([[10, 20], [30, 40]])\n",
        "\n",
        "# Addition\n",
        "print(f\"Addition of 2 two dimentional metrices: {a + b}\")\n",
        "\n",
        "# Subtraction\n",
        "print(f\"Subtraction of 2 two dimentional metrices: {a - b}\")\n",
        "\n",
        "# Multiplication\n",
        "print(f\"Multiplication of 2 two dimentional metrices: {a * b}\")\n",
        "\n",
        "# Division\n",
        "print(f\"Division of 2 two dimentional metrices: {a / b}\")\n",
        "\n",
        "# Power\n",
        "print(f\"Power of 2 two dimentional metrice: {a ** 2}\")"
      ],
      "metadata": {
        "colab": {
          "base_uri": "https://localhost:8080/"
        },
        "id": "8zvUE3FcBCid",
        "outputId": "bc818511-1988-42dd-d04a-eab512bf3ade"
      },
      "execution_count": 55,
      "outputs": [
        {
          "output_type": "stream",
          "name": "stdout",
          "text": [
            "Addition of 2 two dimentional metrices: [[11 22]\n",
            " [33 44]]\n",
            "Subtraction of 2 two dimentional metrices: [[ -9 -18]\n",
            " [-27 -36]]\n",
            "Multiplication of 2 two dimentional metrices: [[ 10  40]\n",
            " [ 90 160]]\n",
            "Division of 2 two dimentional metrices: [[0.1 0.1]\n",
            " [0.1 0.1]]\n",
            "Power of 2 two dimentional metrice: [[ 1  4]\n",
            " [ 9 16]]\n"
          ]
        }
      ]
    },
    {
      "cell_type": "markdown",
      "source": [
        "## Methods in NumPy"
      ],
      "metadata": {
        "id": "GW595hSpCRXz"
      }
    },
    {
      "cell_type": "markdown",
      "source": [
        "### Transpose"
      ],
      "metadata": {
        "id": "JR-kv9RNEx2C"
      }
    },
    {
      "cell_type": "code",
      "source": [
        "arr = np.array([[1, 2, 3],\n",
        "                [4, 5, 6],\n",
        "                [7, 8, 9]])\n",
        "\n",
        "print(arr.transpose())"
      ],
      "metadata": {
        "colab": {
          "base_uri": "https://localhost:8080/"
        },
        "id": "RJUgg5akFBMd",
        "outputId": "e074558e-22ef-4389-f849-52b7ed305947"
      },
      "execution_count": 56,
      "outputs": [
        {
          "output_type": "stream",
          "name": "stdout",
          "text": [
            "[[1 4 7]\n",
            " [2 5 8]\n",
            " [3 6 9]]\n"
          ]
        }
      ]
    },
    {
      "cell_type": "code",
      "source": [
        "print(arr.T)\n",
        "# T is an attribute to use transpose"
      ],
      "metadata": {
        "colab": {
          "base_uri": "https://localhost:8080/"
        },
        "id": "_B8lZpYcFm08",
        "outputId": "68f5c20a-319c-4362-a19a-ea98f896df5b"
      },
      "execution_count": 57,
      "outputs": [
        {
          "output_type": "stream",
          "name": "stdout",
          "text": [
            "[[1 4 7]\n",
            " [2 5 8]\n",
            " [3 6 9]]\n"
          ]
        }
      ]
    },
    {
      "cell_type": "markdown",
      "source": [
        "### Sorting"
      ],
      "metadata": {
        "id": "LlO4u-NLFtM9"
      }
    },
    {
      "cell_type": "code",
      "source": [
        "arr_1d = np.array([2, 1, 3, 5, 4, 10, 7, 6])\n",
        "\n",
        "sorted_arr_1d = np.sort(arr_1d)\n",
        "print(f\"sorted array: {sorted_arr_1d}\")"
      ],
      "metadata": {
        "colab": {
          "base_uri": "https://localhost:8080/"
        },
        "id": "lEzrXuFAGPnS",
        "outputId": "801520ed-81a5-43c1-b8ef-a23a8c13a321"
      },
      "execution_count": 58,
      "outputs": [
        {
          "output_type": "stream",
          "name": "stdout",
          "text": [
            "sorted array: [ 1  2  3  4  5  6  7 10]\n"
          ]
        }
      ]
    },
    {
      "cell_type": "code",
      "source": [
        "arr_1d = np.sort(arr_1d)[::-1]\n",
        "print(arr_1d)"
      ],
      "metadata": {
        "colab": {
          "base_uri": "https://localhost:8080/"
        },
        "id": "myle6xzDKA_y",
        "outputId": "af31d006-b63a-438e-8015-d023c744d8b0"
      },
      "execution_count": 59,
      "outputs": [
        {
          "output_type": "stream",
          "name": "stdout",
          "text": [
            "[10  7  6  5  4  3  2  1]\n"
          ]
        }
      ]
    },
    {
      "cell_type": "code",
      "source": [
        "arr = np.array([\n",
        "    [3, 2, 1],\n",
        "    [6, 5, 4]\n",
        "])\n",
        "sorted_arr = np.sort(arr)\n",
        "print(f\"Sorted 2D array: {sorted_arr}\")"
      ],
      "metadata": {
        "colab": {
          "base_uri": "https://localhost:8080/"
        },
        "id": "yQL8E4DCG0UW",
        "outputId": "37c3c090-90ce-45b4-a941-05eab44dfbcc"
      },
      "execution_count": 60,
      "outputs": [
        {
          "output_type": "stream",
          "name": "stdout",
          "text": [
            "Sorted 2D array: [[1 2 3]\n",
            " [4 5 6]]\n"
          ]
        }
      ]
    },
    {
      "cell_type": "code",
      "source": [
        "arr = np.array([\n",
        "    [3, 2, 1],\n",
        "    [6, 5, 4]\n",
        "])\n",
        "sorted_arr = np.sort(arr, axis=0)\n",
        "print(f\"Sorted 2D array: {sorted_arr}\")"
      ],
      "metadata": {
        "colab": {
          "base_uri": "https://localhost:8080/"
        },
        "id": "oESusi-xHEUU",
        "outputId": "03b2d97a-bebb-45ac-ef05-763cb933b238"
      },
      "execution_count": 61,
      "outputs": [
        {
          "output_type": "stream",
          "name": "stdout",
          "text": [
            "Sorted 2D array: [[3 2 1]\n",
            " [6 5 4]]\n"
          ]
        }
      ]
    },
    {
      "cell_type": "code",
      "source": [
        "arr = np.array([\n",
        "    [3, 2, 1],\n",
        "    [6, 5, 4]\n",
        "])\n",
        "sorted_arr = np.sort(arr, axis = 1)\n",
        "print(f\"Sorted 2D array: {sorted_arr}\")"
      ],
      "metadata": {
        "colab": {
          "base_uri": "https://localhost:8080/"
        },
        "id": "_zxFuwTRHUxj",
        "outputId": "7127f975-8c83-4ff7-c490-97cebe483287"
      },
      "execution_count": 62,
      "outputs": [
        {
          "output_type": "stream",
          "name": "stdout",
          "text": [
            "Sorted 2D array: [[1 2 3]\n",
            " [4 5 6]]\n"
          ]
        }
      ]
    },
    {
      "cell_type": "code",
      "source": [
        "arr = np.array([\n",
        "    [6, 5, 4],\n",
        "    [3, 2, 1]\n",
        "])\n",
        "sorted_arr = np.sort(arr, axis = 0)\n",
        "print(f\"Sorted 2D array: {sorted_arr}\")"
      ],
      "metadata": {
        "colab": {
          "base_uri": "https://localhost:8080/"
        },
        "id": "gloMK1QnHY1m",
        "outputId": "d79a3f84-1076-4426-ff8d-348cfc197c2a"
      },
      "execution_count": 63,
      "outputs": [
        {
          "output_type": "stream",
          "name": "stdout",
          "text": [
            "Sorted 2D array: [[3 2 1]\n",
            " [6 5 4]]\n"
          ]
        }
      ]
    },
    {
      "cell_type": "code",
      "source": [
        "arr = np.array([\n",
        "    [6, 5, 4],\n",
        "    [3, 2, 1]\n",
        "])\n",
        "sorted_arr = np.sort(arr, axis = 0)\n",
        "print(f\"Sorted 2D array: {sorted_arr}\")"
      ],
      "metadata": {
        "colab": {
          "base_uri": "https://localhost:8080/"
        },
        "id": "pjGIoilsHf-S",
        "outputId": "ae5df738-5f62-45dd-ddac-2385cd877c28"
      },
      "execution_count": 64,
      "outputs": [
        {
          "output_type": "stream",
          "name": "stdout",
          "text": [
            "Sorted 2D array: [[3 2 1]\n",
            " [6 5 4]]\n"
          ]
        }
      ]
    },
    {
      "cell_type": "code",
      "source": [
        "arr = arr.T\n",
        "print(arr)"
      ],
      "metadata": {
        "colab": {
          "base_uri": "https://localhost:8080/"
        },
        "id": "lKWwAAhiHkI-",
        "outputId": "f0d19ccf-5b71-48e2-e9ab-702f1c227e3c"
      },
      "execution_count": 65,
      "outputs": [
        {
          "output_type": "stream",
          "name": "stdout",
          "text": [
            "[[6 3]\n",
            " [5 2]\n",
            " [4 1]]\n"
          ]
        }
      ]
    },
    {
      "cell_type": "code",
      "source": [
        "arr = np.sort(arr)\n",
        "print(arr)"
      ],
      "metadata": {
        "colab": {
          "base_uri": "https://localhost:8080/"
        },
        "id": "uVA9yMolIMif",
        "outputId": "8fbce5b8-939b-481b-dcac-d7e77cb5df55"
      },
      "execution_count": 66,
      "outputs": [
        {
          "output_type": "stream",
          "name": "stdout",
          "text": [
            "[[3 6]\n",
            " [2 5]\n",
            " [1 4]]\n"
          ]
        }
      ]
    },
    {
      "cell_type": "code",
      "source": [
        "arr = arr.transpose()\n",
        "print(arr)"
      ],
      "metadata": {
        "colab": {
          "base_uri": "https://localhost:8080/"
        },
        "id": "bAoI00OVIPUI",
        "outputId": "24ac17c0-0b46-43c2-e96a-9d71e5875d65"
      },
      "execution_count": 67,
      "outputs": [
        {
          "output_type": "stream",
          "name": "stdout",
          "text": [
            "[[3 2 1]\n",
            " [6 5 4]]\n"
          ]
        }
      ]
    },
    {
      "cell_type": "markdown",
      "source": [
        "### argsort()"
      ],
      "metadata": {
        "id": "lroVUvY8IYCq"
      }
    },
    {
      "cell_type": "code",
      "source": [
        "arr_1d = np.array([2, 1, 3, 5, 4, 10, 7, 6])\n",
        "\n",
        "sorted_indices_array = np.argsort(arr_1d)\n",
        "print(sorted_indices_array)"
      ],
      "metadata": {
        "colab": {
          "base_uri": "https://localhost:8080/"
        },
        "id": "TVQrCMCJMAJ_",
        "outputId": "7bdb3562-a6f5-43c6-af5c-5c7232354767"
      },
      "execution_count": 68,
      "outputs": [
        {
          "output_type": "stream",
          "name": "stdout",
          "text": [
            "[1 0 2 4 3 7 6 5]\n"
          ]
        }
      ]
    },
    {
      "cell_type": "markdown",
      "source": [
        "basically above function give the index of original element in the given array after sorting"
      ],
      "metadata": {
        "id": "Px5jN-ygMgI2"
      }
    },
    {
      "cell_type": "markdown",
      "source": [
        "### Ranking recommened system"
      ],
      "metadata": {
        "id": "CbkG6ogKMqns"
      }
    },
    {
      "cell_type": "code",
      "source": [
        "similarity_scores = [0.28, 0.85, 0.11, 0.65, 0.91]\n",
        "sorted_similiarity_scores = np.argsort(similarity_scores)\n",
        "top_3_items = sorted_similiarity_scores[-3:][::-1]\n",
        "print(top_3_items)"
      ],
      "metadata": {
        "colab": {
          "base_uri": "https://localhost:8080/"
        },
        "id": "6uCmhHiMOoon",
        "outputId": "25af38f9-feaf-40ec-d1d5-b41453ac4df3"
      },
      "execution_count": 69,
      "outputs": [
        {
          "output_type": "stream",
          "name": "stdout",
          "text": [
            "[4 1 3]\n"
          ]
        }
      ]
    },
    {
      "cell_type": "markdown",
      "source": [
        "### Concatination arrays"
      ],
      "metadata": {
        "id": "wVh3i-9cO_dD"
      }
    },
    {
      "cell_type": "code",
      "source": [
        "arr1 = np.array([1, 2, 3])\n",
        "arr2 = np.array([4, 5, 6])\n",
        "\n",
        "arr3 = np.concatenate((arr1, arr2))\n",
        "print(arr3)"
      ],
      "metadata": {
        "colab": {
          "base_uri": "https://localhost:8080/"
        },
        "id": "ZgPWrfxhP-23",
        "outputId": "2d13ac9b-8bee-4af1-c9ca-c518db5c6585"
      },
      "execution_count": 70,
      "outputs": [
        {
          "output_type": "stream",
          "name": "stdout",
          "text": [
            "[1 2 3 4 5 6]\n"
          ]
        }
      ]
    },
    {
      "cell_type": "code",
      "source": [
        "arr1 = np.array([[1, 2, 3], [3, 4, 5]])\n",
        "arr2 = np.array([[4, 5, 6], [6, 7, 8]])\n",
        "\n",
        "arr3 = np.concatenate((arr1, arr2))\n",
        "print(arr3)"
      ],
      "metadata": {
        "colab": {
          "base_uri": "https://localhost:8080/"
        },
        "id": "3Ede1jHQQKW6",
        "outputId": "a31706db-bc47-45ac-de41-ae3fdc7e6797"
      },
      "execution_count": 71,
      "outputs": [
        {
          "output_type": "stream",
          "name": "stdout",
          "text": [
            "[[1 2 3]\n",
            " [3 4 5]\n",
            " [4 5 6]\n",
            " [6 7 8]]\n"
          ]
        }
      ]
    },
    {
      "cell_type": "code",
      "source": [
        "arr1 = np.array([[1, 2, 3], [3, 4, 5]])\n",
        "arr2 = np.array([[4, 5, 6], [6, 7, 8]])\n",
        "\n",
        "arr3 = np.concatenate((arr1, arr2), axis = 1)\n",
        "print(arr3)"
      ],
      "metadata": {
        "colab": {
          "base_uri": "https://localhost:8080/"
        },
        "id": "GewXA8CjSaAC",
        "outputId": "da9574a0-aa0a-4442-c9fa-a598c67de5ae"
      },
      "execution_count": 72,
      "outputs": [
        {
          "output_type": "stream",
          "name": "stdout",
          "text": [
            "[[1 2 3 4 5 6]\n",
            " [3 4 5 6 7 8]]\n"
          ]
        }
      ]
    },
    {
      "cell_type": "code",
      "source": [
        "arr1 = np.array([[1, 2, 3], [3, 4, 5]])\n",
        "arr2 = np.array([[4, 5, 6], [6, 7, 8]])\n",
        "\n",
        "arr3 = np.concatenate((arr1, arr2), axis = 0)\n",
        "print(arr3)"
      ],
      "metadata": {
        "colab": {
          "base_uri": "https://localhost:8080/"
        },
        "id": "XeLKBNoGScQS",
        "outputId": "95d67783-e3b1-4a25-ee4c-f0b74182f8e1"
      },
      "execution_count": 73,
      "outputs": [
        {
          "output_type": "stream",
          "name": "stdout",
          "text": [
            "[[1 2 3]\n",
            " [3 4 5]\n",
            " [4 5 6]\n",
            " [6 7 8]]\n"
          ]
        }
      ]
    },
    {
      "cell_type": "markdown",
      "source": [
        "### Reshape"
      ],
      "metadata": {
        "id": "15B_csDvSopo"
      }
    },
    {
      "cell_type": "code",
      "source": [
        "arr_1d"
      ],
      "metadata": {
        "colab": {
          "base_uri": "https://localhost:8080/"
        },
        "id": "GPl0XZZ8T3Te",
        "outputId": "d7d97f86-70f3-4197-a77c-2a034886299f"
      },
      "execution_count": 74,
      "outputs": [
        {
          "output_type": "execute_result",
          "data": {
            "text/plain": [
              "array([ 2,  1,  3,  5,  4, 10,  7,  6])"
            ]
          },
          "metadata": {},
          "execution_count": 74
        }
      ]
    },
    {
      "cell_type": "code",
      "source": [
        "arr_2d = arr_1d.reshape(4, 2)\n",
        "arr_2d"
      ],
      "metadata": {
        "colab": {
          "base_uri": "https://localhost:8080/"
        },
        "id": "Diwotf4CT4oC",
        "outputId": "ff1babed-5f80-4b53-cf57-5c6abff15e24"
      },
      "execution_count": 75,
      "outputs": [
        {
          "output_type": "execute_result",
          "data": {
            "text/plain": [
              "array([[ 2,  1],\n",
              "       [ 3,  5],\n",
              "       [ 4, 10],\n",
              "       [ 7,  6]])"
            ]
          },
          "metadata": {},
          "execution_count": 75
        }
      ]
    },
    {
      "cell_type": "code",
      "source": [
        "arr_2d = arr_1d.reshape(2, 4)\n",
        "arr_2d"
      ],
      "metadata": {
        "colab": {
          "base_uri": "https://localhost:8080/"
        },
        "id": "cHmfZZubUOgf",
        "outputId": "a2803957-f993-40a8-9da9-22edb7ab6be7"
      },
      "execution_count": 76,
      "outputs": [
        {
          "output_type": "execute_result",
          "data": {
            "text/plain": [
              "array([[ 2,  1,  3,  5],\n",
              "       [ 4, 10,  7,  6]])"
            ]
          },
          "metadata": {},
          "execution_count": 76
        }
      ]
    },
    {
      "cell_type": "markdown",
      "source": [
        "two methods to concatenate\n",
        "\n",
        "concat -> [in pandas deals with labeled-data]\n",
        "concatenate -> [in numpy array-focused]"
      ],
      "metadata": {
        "id": "SBr5PY1yUZo_"
      }
    },
    {
      "cell_type": "code",
      "source": [
        "arr_2d = arr_2d.reshape(-1)\n",
        "arr_2d"
      ],
      "metadata": {
        "colab": {
          "base_uri": "https://localhost:8080/"
        },
        "id": "heWJfmEJWTTV",
        "outputId": "2f95b6e9-7ca9-4c2b-cd14-45392f527ecd"
      },
      "execution_count": 77,
      "outputs": [
        {
          "output_type": "execute_result",
          "data": {
            "text/plain": [
              "array([ 2,  1,  3,  5,  4, 10,  7,  6])"
            ]
          },
          "metadata": {},
          "execution_count": 77
        }
      ]
    },
    {
      "cell_type": "markdown",
      "source": [
        "arr.reshape(-1) is used to flattened any kind of array"
      ],
      "metadata": {
        "id": "Tmnrn-vfWZbI"
      }
    },
    {
      "cell_type": "markdown",
      "source": [
        "### Split Method"
      ],
      "metadata": {
        "id": "1pTUZHEJWXtl"
      }
    },
    {
      "cell_type": "code",
      "source": [
        "arr_1d"
      ],
      "metadata": {
        "colab": {
          "base_uri": "https://localhost:8080/"
        },
        "id": "LWq5XJ3EWYWR",
        "outputId": "f1672969-e749-4891-d44e-075177c80c9e"
      },
      "execution_count": 78,
      "outputs": [
        {
          "output_type": "execute_result",
          "data": {
            "text/plain": [
              "array([ 2,  1,  3,  5,  4, 10,  7,  6])"
            ]
          },
          "metadata": {},
          "execution_count": 78
        }
      ]
    },
    {
      "cell_type": "code",
      "source": [
        "split_arr = np.split(arr_1d, 4)\n",
        "split_arr"
      ],
      "metadata": {
        "colab": {
          "base_uri": "https://localhost:8080/"
        },
        "id": "8Il81EonW12V",
        "outputId": "55d4913d-fba8-455e-a72f-e4454bed546d"
      },
      "execution_count": 79,
      "outputs": [
        {
          "output_type": "execute_result",
          "data": {
            "text/plain": [
              "[array([2, 1]), array([3, 5]), array([ 4, 10]), array([7, 6])]"
            ]
          },
          "metadata": {},
          "execution_count": 79
        }
      ]
    },
    {
      "cell_type": "code",
      "source": [
        "split_arr = np.split(arr_1d, 3)\n",
        "split_arr"
      ],
      "metadata": {
        "colab": {
          "base_uri": "https://localhost:8080/",
          "height": 280
        },
        "id": "spUzAoLqW8Wh",
        "outputId": "38da9299-2d28-49b8-af67-3b733fdbeab2"
      },
      "execution_count": 80,
      "outputs": [
        {
          "output_type": "error",
          "ename": "ValueError",
          "evalue": "array split does not result in an equal division",
          "traceback": [
            "\u001b[0;31m---------------------------------------------------------------------------\u001b[0m",
            "\u001b[0;31mValueError\u001b[0m                                Traceback (most recent call last)",
            "\u001b[0;32m/tmp/ipython-input-3991675249.py\u001b[0m in \u001b[0;36m<cell line: 0>\u001b[0;34m()\u001b[0m\n\u001b[0;32m----> 1\u001b[0;31m \u001b[0msplit_arr\u001b[0m \u001b[0;34m=\u001b[0m \u001b[0mnp\u001b[0m\u001b[0;34m.\u001b[0m\u001b[0msplit\u001b[0m\u001b[0;34m(\u001b[0m\u001b[0marr_1d\u001b[0m\u001b[0;34m,\u001b[0m \u001b[0;36m3\u001b[0m\u001b[0;34m)\u001b[0m\u001b[0;34m\u001b[0m\u001b[0;34m\u001b[0m\u001b[0m\n\u001b[0m\u001b[1;32m      2\u001b[0m \u001b[0msplit_arr\u001b[0m\u001b[0;34m\u001b[0m\u001b[0;34m\u001b[0m\u001b[0m\n",
            "\u001b[0;32m/usr/local/lib/python3.12/dist-packages/numpy/lib/_shape_base_impl.py\u001b[0m in \u001b[0;36msplit\u001b[0;34m(ary, indices_or_sections, axis)\u001b[0m\n\u001b[1;32m    872\u001b[0m         \u001b[0mN\u001b[0m \u001b[0;34m=\u001b[0m \u001b[0mary\u001b[0m\u001b[0;34m.\u001b[0m\u001b[0mshape\u001b[0m\u001b[0;34m[\u001b[0m\u001b[0maxis\u001b[0m\u001b[0;34m]\u001b[0m\u001b[0;34m\u001b[0m\u001b[0;34m\u001b[0m\u001b[0m\n\u001b[1;32m    873\u001b[0m         \u001b[0;32mif\u001b[0m \u001b[0mN\u001b[0m \u001b[0;34m%\u001b[0m \u001b[0msections\u001b[0m\u001b[0;34m:\u001b[0m\u001b[0;34m\u001b[0m\u001b[0;34m\u001b[0m\u001b[0m\n\u001b[0;32m--> 874\u001b[0;31m             raise ValueError(\n\u001b[0m\u001b[1;32m    875\u001b[0m                 'array split does not result in an equal division') from None\n\u001b[1;32m    876\u001b[0m     \u001b[0;32mreturn\u001b[0m \u001b[0marray_split\u001b[0m\u001b[0;34m(\u001b[0m\u001b[0mary\u001b[0m\u001b[0;34m,\u001b[0m \u001b[0mindices_or_sections\u001b[0m\u001b[0;34m,\u001b[0m \u001b[0maxis\u001b[0m\u001b[0;34m)\u001b[0m\u001b[0;34m\u001b[0m\u001b[0;34m\u001b[0m\u001b[0m\n",
            "\u001b[0;31mValueError\u001b[0m: array split does not result in an equal division"
          ]
        }
      ]
    },
    {
      "cell_type": "code",
      "source": [
        "split_arr = np.split(arr_1d, 5)\n",
        "split_arr"
      ],
      "metadata": {
        "colab": {
          "base_uri": "https://localhost:8080/",
          "height": 280
        },
        "id": "cXQxbgZMXC4u",
        "outputId": "7e39eed9-9cc1-4cdc-d02a-0e55e43afde0"
      },
      "execution_count": 81,
      "outputs": [
        {
          "output_type": "error",
          "ename": "ValueError",
          "evalue": "array split does not result in an equal division",
          "traceback": [
            "\u001b[0;31m---------------------------------------------------------------------------\u001b[0m",
            "\u001b[0;31mValueError\u001b[0m                                Traceback (most recent call last)",
            "\u001b[0;32m/tmp/ipython-input-275406025.py\u001b[0m in \u001b[0;36m<cell line: 0>\u001b[0;34m()\u001b[0m\n\u001b[0;32m----> 1\u001b[0;31m \u001b[0msplit_arr\u001b[0m \u001b[0;34m=\u001b[0m \u001b[0mnp\u001b[0m\u001b[0;34m.\u001b[0m\u001b[0msplit\u001b[0m\u001b[0;34m(\u001b[0m\u001b[0marr_1d\u001b[0m\u001b[0;34m,\u001b[0m \u001b[0;36m5\u001b[0m\u001b[0;34m)\u001b[0m\u001b[0;34m\u001b[0m\u001b[0;34m\u001b[0m\u001b[0m\n\u001b[0m\u001b[1;32m      2\u001b[0m \u001b[0msplit_arr\u001b[0m\u001b[0;34m\u001b[0m\u001b[0;34m\u001b[0m\u001b[0m\n",
            "\u001b[0;32m/usr/local/lib/python3.12/dist-packages/numpy/lib/_shape_base_impl.py\u001b[0m in \u001b[0;36msplit\u001b[0;34m(ary, indices_or_sections, axis)\u001b[0m\n\u001b[1;32m    872\u001b[0m         \u001b[0mN\u001b[0m \u001b[0;34m=\u001b[0m \u001b[0mary\u001b[0m\u001b[0;34m.\u001b[0m\u001b[0mshape\u001b[0m\u001b[0;34m[\u001b[0m\u001b[0maxis\u001b[0m\u001b[0;34m]\u001b[0m\u001b[0;34m\u001b[0m\u001b[0;34m\u001b[0m\u001b[0m\n\u001b[1;32m    873\u001b[0m         \u001b[0;32mif\u001b[0m \u001b[0mN\u001b[0m \u001b[0;34m%\u001b[0m \u001b[0msections\u001b[0m\u001b[0;34m:\u001b[0m\u001b[0;34m\u001b[0m\u001b[0;34m\u001b[0m\u001b[0m\n\u001b[0;32m--> 874\u001b[0;31m             raise ValueError(\n\u001b[0m\u001b[1;32m    875\u001b[0m                 'array split does not result in an equal division') from None\n\u001b[1;32m    876\u001b[0m     \u001b[0;32mreturn\u001b[0m \u001b[0marray_split\u001b[0m\u001b[0;34m(\u001b[0m\u001b[0mary\u001b[0m\u001b[0;34m,\u001b[0m \u001b[0mindices_or_sections\u001b[0m\u001b[0;34m,\u001b[0m \u001b[0maxis\u001b[0m\u001b[0;34m)\u001b[0m\u001b[0;34m\u001b[0m\u001b[0;34m\u001b[0m\u001b[0m\n",
            "\u001b[0;31mValueError\u001b[0m: array split does not result in an equal division"
          ]
        }
      ]
    },
    {
      "cell_type": "code",
      "source": [
        "split_arr = np.split(arr_1d, 2)\n",
        "split_arr"
      ],
      "metadata": {
        "colab": {
          "base_uri": "https://localhost:8080/"
        },
        "id": "UTdDo56hXLqX",
        "outputId": "58bc5963-2b99-4ba8-bd88-1905e5e77a34"
      },
      "execution_count": 82,
      "outputs": [
        {
          "output_type": "execute_result",
          "data": {
            "text/plain": [
              "[array([2, 1, 3, 5]), array([ 4, 10,  7,  6])]"
            ]
          },
          "metadata": {},
          "execution_count": 82
        }
      ]
    },
    {
      "cell_type": "markdown",
      "source": [
        "### Statistical Operations: Mean, Median, Mode"
      ],
      "metadata": {
        "id": "U9ntU_Z8XNlk"
      }
    },
    {
      "cell_type": "code",
      "source": [
        "arr = np.array([[1, 2, 3],\n",
        "                [4, 5, 6]])\n",
        "\n",
        "mean_all = np.mean(arr)\n",
        "print(mean_all)"
      ],
      "metadata": {
        "colab": {
          "base_uri": "https://localhost:8080/"
        },
        "id": "GjHsK2CYYAgI",
        "outputId": "032adaf2-bb79-42ab-a5a7-d3d5298b6d5c"
      },
      "execution_count": 83,
      "outputs": [
        {
          "output_type": "stream",
          "name": "stdout",
          "text": [
            "3.5\n"
          ]
        }
      ]
    },
    {
      "cell_type": "code",
      "source": [
        "arr = np.array([[1, 2, 3],\n",
        "                [4, 5, 6]])\n",
        "\n",
        "mean_axis_0 = np.mean(arr, axis = 0) # here axis = 0 is reffered to column\n",
        "print(mean_axis_0)"
      ],
      "metadata": {
        "colab": {
          "base_uri": "https://localhost:8080/"
        },
        "id": "IfARSlV0aoIZ",
        "outputId": "82ec01c5-a014-45b8-9afe-d8129e28bb09"
      },
      "execution_count": 84,
      "outputs": [
        {
          "output_type": "stream",
          "name": "stdout",
          "text": [
            "[2.5 3.5 4.5]\n"
          ]
        }
      ]
    },
    {
      "cell_type": "code",
      "source": [
        "arr = np.array([[1, 2, 3],\n",
        "                [4, 5, 6]])\n",
        "\n",
        "mean_axis_1 = np.mean(arr, axis = 1) # here axis = 1 is reffered to row\n",
        "print(mean_axis_1)"
      ],
      "metadata": {
        "colab": {
          "base_uri": "https://localhost:8080/"
        },
        "id": "lGOloQhDayhl",
        "outputId": "9fdedeca-cf15-416e-dfe2-a5b119e0da78"
      },
      "execution_count": 85,
      "outputs": [
        {
          "output_type": "stream",
          "name": "stdout",
          "text": [
            "[2. 5.]\n"
          ]
        }
      ]
    },
    {
      "cell_type": "markdown",
      "source": [
        "np.std => standard deviation\n",
        "\n",
        "np.median => median\n",
        "\n",
        "np.min => minimum value\n",
        "\n",
        "np.max => maximum value\n",
        "\n",
        "np.var => variance\n",
        "\n",
        "np.sum => sum\n",
        "\n"
      ],
      "metadata": {
        "id": "OxppqHEva4dl"
      }
    },
    {
      "cell_type": "markdown",
      "source": [
        "### Data creation ways using NumPy"
      ],
      "metadata": {
        "id": "2px2NWGhbJn7"
      }
    },
    {
      "cell_type": "code",
      "source": [
        "arr = np.zeros(5)\n",
        "print(arr)"
      ],
      "metadata": {
        "colab": {
          "base_uri": "https://localhost:8080/"
        },
        "id": "pJ1J4U9NbcDn",
        "outputId": "a6eb7c47-fe86-4499-f112-a6424bcca2da"
      },
      "execution_count": 86,
      "outputs": [
        {
          "output_type": "stream",
          "name": "stdout",
          "text": [
            "[0. 0. 0. 0. 0.]\n"
          ]
        }
      ]
    },
    {
      "cell_type": "code",
      "source": [
        "arr = np.zeros((2, 3))\n",
        "print(arr)"
      ],
      "metadata": {
        "colab": {
          "base_uri": "https://localhost:8080/"
        },
        "id": "hKM1SQASbmOP",
        "outputId": "c5e7c8a3-0585-446c-9b6e-afa5cffb129f"
      },
      "execution_count": 87,
      "outputs": [
        {
          "output_type": "stream",
          "name": "stdout",
          "text": [
            "[[0. 0. 0.]\n",
            " [0. 0. 0.]]\n"
          ]
        }
      ]
    },
    {
      "cell_type": "code",
      "source": [
        "arr = np.zeros((2, 3, 4))\n",
        "print(arr)"
      ],
      "metadata": {
        "colab": {
          "base_uri": "https://localhost:8080/"
        },
        "id": "oFQOS9tGbwtL",
        "outputId": "5c5538ba-4688-4745-d381-4126ac37502e"
      },
      "execution_count": 88,
      "outputs": [
        {
          "output_type": "stream",
          "name": "stdout",
          "text": [
            "[[[0. 0. 0. 0.]\n",
            "  [0. 0. 0. 0.]\n",
            "  [0. 0. 0. 0.]]\n",
            "\n",
            " [[0. 0. 0. 0.]\n",
            "  [0. 0. 0. 0.]\n",
            "  [0. 0. 0. 0.]]]\n"
          ]
        }
      ]
    },
    {
      "cell_type": "code",
      "source": [
        "arr = np.zeros((2, 3, 4), dtype = 'int')\n",
        "print(arr)"
      ],
      "metadata": {
        "colab": {
          "base_uri": "https://localhost:8080/"
        },
        "id": "kjYtCEcObzFL",
        "outputId": "7ac91fcd-83b8-4c3b-d314-8eabdf5931ff"
      },
      "execution_count": 89,
      "outputs": [
        {
          "output_type": "stream",
          "name": "stdout",
          "text": [
            "[[[0 0 0 0]\n",
            "  [0 0 0 0]\n",
            "  [0 0 0 0]]\n",
            "\n",
            " [[0 0 0 0]\n",
            "  [0 0 0 0]\n",
            "  [0 0 0 0]]]\n"
          ]
        }
      ]
    },
    {
      "cell_type": "code",
      "source": [
        "arr = np.ones(5)\n",
        "print(arr)"
      ],
      "metadata": {
        "colab": {
          "base_uri": "https://localhost:8080/"
        },
        "id": "v2tl_pkFb5yz",
        "outputId": "147be69f-4c5d-41e6-cd04-f34fb56b3c8a"
      },
      "execution_count": 90,
      "outputs": [
        {
          "output_type": "stream",
          "name": "stdout",
          "text": [
            "[1. 1. 1. 1. 1.]\n"
          ]
        }
      ]
    },
    {
      "cell_type": "code",
      "source": [
        "arr = np.ones((2, 3))\n",
        "print(arr)"
      ],
      "metadata": {
        "colab": {
          "base_uri": "https://localhost:8080/"
        },
        "id": "Ye8K94Q6cBsY",
        "outputId": "c789809c-ff1c-4669-ed77-4579211155a7"
      },
      "execution_count": 91,
      "outputs": [
        {
          "output_type": "stream",
          "name": "stdout",
          "text": [
            "[[1. 1. 1.]\n",
            " [1. 1. 1.]]\n"
          ]
        }
      ]
    },
    {
      "cell_type": "code",
      "source": [
        "arr = np.ones((2, 3, 4))\n",
        "print(arr)"
      ],
      "metadata": {
        "colab": {
          "base_uri": "https://localhost:8080/"
        },
        "id": "mMx4V2EvcFTF",
        "outputId": "1b80ce8b-fb42-4a92-f014-adf2860aaa81"
      },
      "execution_count": 92,
      "outputs": [
        {
          "output_type": "stream",
          "name": "stdout",
          "text": [
            "[[[1. 1. 1. 1.]\n",
            "  [1. 1. 1. 1.]\n",
            "  [1. 1. 1. 1.]]\n",
            "\n",
            " [[1. 1. 1. 1.]\n",
            "  [1. 1. 1. 1.]\n",
            "  [1. 1. 1. 1.]]]\n"
          ]
        }
      ]
    },
    {
      "cell_type": "code",
      "source": [
        "arr = np.ones((2, 3, 4), dtype = 'int')\n",
        "print(arr)"
      ],
      "metadata": {
        "colab": {
          "base_uri": "https://localhost:8080/"
        },
        "id": "lB1kvsL7cIpW",
        "outputId": "2bbf6502-42e6-4b84-ad0f-f8c05f81b3f4"
      },
      "execution_count": 93,
      "outputs": [
        {
          "output_type": "stream",
          "name": "stdout",
          "text": [
            "[[[1 1 1 1]\n",
            "  [1 1 1 1]\n",
            "  [1 1 1 1]]\n",
            "\n",
            " [[1 1 1 1]\n",
            "  [1 1 1 1]\n",
            "  [1 1 1 1]]]\n"
          ]
        }
      ]
    },
    {
      "cell_type": "code",
      "source": [
        "arr = np.full((2, 3, 4), np.nan)\n",
        "print(arr)"
      ],
      "metadata": {
        "colab": {
          "base_uri": "https://localhost:8080/"
        },
        "id": "9SWNmbQycLcd",
        "outputId": "93d29810-8387-4374-b4ce-7f9e4c6f1c35"
      },
      "execution_count": 94,
      "outputs": [
        {
          "output_type": "stream",
          "name": "stdout",
          "text": [
            "[[[nan nan nan nan]\n",
            "  [nan nan nan nan]\n",
            "  [nan nan nan nan]]\n",
            "\n",
            " [[nan nan nan nan]\n",
            "  [nan nan nan nan]\n",
            "  [nan nan nan nan]]]\n"
          ]
        }
      ]
    },
    {
      "cell_type": "code",
      "source": [
        "arr = np.full((2, 3, 4), np.nan, dtype = 'int')\n",
        "print(arr)"
      ],
      "metadata": {
        "colab": {
          "base_uri": "https://localhost:8080/"
        },
        "id": "deLESKiRc6Qn",
        "outputId": "4057af4f-fd51-4174-a16b-195ca9a75be7"
      },
      "execution_count": 95,
      "outputs": [
        {
          "output_type": "stream",
          "name": "stdout",
          "text": [
            "[[[-9223372036854775808 -9223372036854775808 -9223372036854775808\n",
            "   -9223372036854775808]\n",
            "  [-9223372036854775808 -9223372036854775808 -9223372036854775808\n",
            "   -9223372036854775808]\n",
            "  [-9223372036854775808 -9223372036854775808 -9223372036854775808\n",
            "   -9223372036854775808]]\n",
            "\n",
            " [[-9223372036854775808 -9223372036854775808 -9223372036854775808\n",
            "   -9223372036854775808]\n",
            "  [-9223372036854775808 -9223372036854775808 -9223372036854775808\n",
            "   -9223372036854775808]\n",
            "  [-9223372036854775808 -9223372036854775808 -9223372036854775808\n",
            "   -9223372036854775808]]]\n"
          ]
        },
        {
          "output_type": "stream",
          "name": "stderr",
          "text": [
            "/usr/local/lib/python3.12/dist-packages/numpy/_core/numeric.py:362: RuntimeWarning: invalid value encountered in cast\n",
            "  multiarray.copyto(a, fill_value, casting='unsafe')\n"
          ]
        }
      ]
    },
    {
      "cell_type": "code",
      "source": [
        "arr = np.full((2, 3, 4), np.nan, dtype = 'str')\n",
        "print(arr)"
      ],
      "metadata": {
        "colab": {
          "base_uri": "https://localhost:8080/"
        },
        "id": "15BRVAKzdVTS",
        "outputId": "c32b5b8c-07d4-4f4d-a656-4ebcd5df37fc"
      },
      "execution_count": 96,
      "outputs": [
        {
          "output_type": "stream",
          "name": "stdout",
          "text": [
            "[[['n' 'n' 'n' 'n']\n",
            "  ['n' 'n' 'n' 'n']\n",
            "  ['n' 'n' 'n' 'n']]\n",
            "\n",
            " [['n' 'n' 'n' 'n']\n",
            "  ['n' 'n' 'n' 'n']\n",
            "  ['n' 'n' 'n' 'n']]]\n"
          ]
        }
      ]
    },
    {
      "cell_type": "code",
      "source": [
        "arr = np.full((2, 3, 4), np.nan, dtype = 'bool')\n",
        "print(arr)"
      ],
      "metadata": {
        "colab": {
          "base_uri": "https://localhost:8080/"
        },
        "id": "f9Ry_uL2dZFC",
        "outputId": "26d50d2c-3221-4d3a-dda7-4916325e801c"
      },
      "execution_count": 97,
      "outputs": [
        {
          "output_type": "stream",
          "name": "stdout",
          "text": [
            "[[[ True  True  True  True]\n",
            "  [ True  True  True  True]\n",
            "  [ True  True  True  True]]\n",
            "\n",
            " [[ True  True  True  True]\n",
            "  [ True  True  True  True]\n",
            "  [ True  True  True  True]]]\n"
          ]
        }
      ]
    },
    {
      "cell_type": "markdown",
      "source": [
        "### Identity Matrix"
      ],
      "metadata": {
        "id": "qIyZ6869ddCi"
      }
    },
    {
      "cell_type": "code",
      "source": [
        "identity_3_cross_4 = np.eye(3, 4)\n",
        "print(identity_3_cross_4)"
      ],
      "metadata": {
        "colab": {
          "base_uri": "https://localhost:8080/"
        },
        "id": "Cuann-D7dgqk",
        "outputId": "123293b5-fffa-4d8c-8252-adc9f764b34f"
      },
      "execution_count": 98,
      "outputs": [
        {
          "output_type": "stream",
          "name": "stdout",
          "text": [
            "[[1. 0. 0. 0.]\n",
            " [0. 1. 0. 0.]\n",
            " [0. 0. 1. 0.]]\n"
          ]
        }
      ]
    },
    {
      "cell_type": "markdown",
      "source": [
        "### np.arange(strat, stop, step_size)**bold text**"
      ],
      "metadata": {
        "id": "onoHZwI5e1x_"
      }
    },
    {
      "cell_type": "code",
      "source": [
        "np.arange(10)"
      ],
      "metadata": {
        "colab": {
          "base_uri": "https://localhost:8080/"
        },
        "id": "cJkvP0KdfW23",
        "outputId": "76d07b25-3222-40db-fc71-4d748be660a6"
      },
      "execution_count": 99,
      "outputs": [
        {
          "output_type": "execute_result",
          "data": {
            "text/plain": [
              "array([0, 1, 2, 3, 4, 5, 6, 7, 8, 9])"
            ]
          },
          "metadata": {},
          "execution_count": 99
        }
      ]
    },
    {
      "cell_type": "code",
      "source": [
        "np.arange(3, 13, 2)"
      ],
      "metadata": {
        "colab": {
          "base_uri": "https://localhost:8080/"
        },
        "id": "kuO2goQzfZ8c",
        "outputId": "cec8d45e-25de-4fea-fb35-da6c1279ee6c"
      },
      "execution_count": 100,
      "outputs": [
        {
          "output_type": "execute_result",
          "data": {
            "text/plain": [
              "array([ 3,  5,  7,  9, 11])"
            ]
          },
          "metadata": {},
          "execution_count": 100
        }
      ]
    },
    {
      "cell_type": "markdown",
      "source": [
        "### np.random()"
      ],
      "metadata": {
        "id": "c5rJsdsXfj54"
      }
    },
    {
      "cell_type": "code",
      "source": [
        "np.random.random(5)"
      ],
      "metadata": {
        "colab": {
          "base_uri": "https://localhost:8080/"
        },
        "id": "Dcyxzr5M6Zit",
        "outputId": "e6d5ae40-ccf9-43bc-91c2-b15b89c09784"
      },
      "execution_count": 101,
      "outputs": [
        {
          "output_type": "execute_result",
          "data": {
            "text/plain": [
              "array([0.25388816, 0.45161165, 0.51481522, 0.21121953, 0.08947845])"
            ]
          },
          "metadata": {},
          "execution_count": 101
        }
      ]
    },
    {
      "cell_type": "code",
      "source": [
        "np.random.random_sample(5)"
      ],
      "metadata": {
        "colab": {
          "base_uri": "https://localhost:8080/"
        },
        "id": "JEWMZWik6eNu",
        "outputId": "ebdeb8fb-aab2-4f95-c4b6-8c52a68697b2"
      },
      "execution_count": 103,
      "outputs": [
        {
          "output_type": "execute_result",
          "data": {
            "text/plain": [
              "array([0.87097598, 0.51324262, 0.07226643, 0.72392692, 0.66372887])"
            ]
          },
          "metadata": {},
          "execution_count": 103
        }
      ]
    },
    {
      "cell_type": "code",
      "source": [
        "np.random.random_integers(5)"
      ],
      "metadata": {
        "colab": {
          "base_uri": "https://localhost:8080/"
        },
        "id": "NhHJ6Grt67Np",
        "outputId": "aeeb294e-7474-494c-871a-d1a403fa4d68"
      },
      "execution_count": 104,
      "outputs": [
        {
          "output_type": "stream",
          "name": "stderr",
          "text": [
            "/tmp/ipython-input-339360557.py:1: DeprecationWarning: This function is deprecated. Please call randint(1, 5 + 1) instead\n",
            "  np.random.random_integers(5)\n"
          ]
        },
        {
          "output_type": "execute_result",
          "data": {
            "text/plain": [
              "np.int64(2)"
            ]
          },
          "metadata": {},
          "execution_count": 104
        }
      ]
    },
    {
      "cell_type": "code",
      "source": [
        "np.random.random_integers(5, 10)"
      ],
      "metadata": {
        "colab": {
          "base_uri": "https://localhost:8080/"
        },
        "id": "akp_cIoW7BBD",
        "outputId": "bd466b38-5952-4be6-ba46-ee34cb29213c"
      },
      "execution_count": 105,
      "outputs": [
        {
          "output_type": "stream",
          "name": "stderr",
          "text": [
            "/tmp/ipython-input-3916089515.py:1: DeprecationWarning: This function is deprecated. Please call randint(5, 10 + 1) instead\n",
            "  np.random.random_integers(5, 10)\n"
          ]
        },
        {
          "output_type": "execute_result",
          "data": {
            "text/plain": [
              "np.int64(7)"
            ]
          },
          "metadata": {},
          "execution_count": 105
        }
      ]
    },
    {
      "cell_type": "code",
      "source": [
        "np.random.randint(2, 29)"
      ],
      "metadata": {
        "colab": {
          "base_uri": "https://localhost:8080/"
        },
        "id": "e23tHNDc7GA3",
        "outputId": "17e96203-1c74-46c3-ed2a-4518af89f50c"
      },
      "execution_count": 106,
      "outputs": [
        {
          "output_type": "execute_result",
          "data": {
            "text/plain": [
              "6"
            ]
          },
          "metadata": {},
          "execution_count": 106
        }
      ]
    },
    {
      "cell_type": "code",
      "source": [
        "np.random.seed(10)\n",
        "np.random.random((2, 3))"
      ],
      "metadata": {
        "colab": {
          "base_uri": "https://localhost:8080/"
        },
        "id": "iP2nLteF7LRh",
        "outputId": "e0d7e908-b337-4199-997c-294cf4795396"
      },
      "execution_count": 120,
      "outputs": [
        {
          "output_type": "execute_result",
          "data": {
            "text/plain": [
              "array([[0.77132064, 0.02075195, 0.63364823],\n",
              "       [0.74880388, 0.49850701, 0.22479665]])"
            ]
          },
          "metadata": {},
          "execution_count": 120
        }
      ]
    },
    {
      "cell_type": "markdown",
      "source": [
        "np.linspace(start, stop, num, endpoint, retstep, dtype)"
      ],
      "metadata": {
        "id": "p3uylfmN8E7R"
      }
    },
    {
      "cell_type": "code",
      "source": [
        "np.linspace(0, 1, 5)"
      ],
      "metadata": {
        "colab": {
          "base_uri": "https://localhost:8080/"
        },
        "id": "B8-xuO_B7Pq8",
        "outputId": "3b5503e2-f91f-4ac5-ccc7-a7215c2e489f"
      },
      "execution_count": 122,
      "outputs": [
        {
          "output_type": "execute_result",
          "data": {
            "text/plain": [
              "array([0.  , 0.25, 0.5 , 0.75, 1.  ])"
            ]
          },
          "metadata": {},
          "execution_count": 122
        }
      ]
    },
    {
      "cell_type": "code",
      "source": [
        "np.linspace(0, 1, 6)"
      ],
      "metadata": {
        "colab": {
          "base_uri": "https://localhost:8080/"
        },
        "id": "IyHuxmbE8OKS",
        "outputId": "dbef7c1c-8b61-42ad-d968-58c02d90142d"
      },
      "execution_count": 136,
      "outputs": [
        {
          "output_type": "execute_result",
          "data": {
            "text/plain": [
              "array([0. , 0.2, 0.4, 0.6, 0.8, 1. ])"
            ]
          },
          "metadata": {},
          "execution_count": 136
        }
      ]
    },
    {
      "cell_type": "code",
      "source": [],
      "metadata": {
        "id": "vH9KLVkS8XmS"
      },
      "execution_count": null,
      "outputs": []
    }
  ]
}