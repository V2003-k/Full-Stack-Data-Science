{
  "nbformat": 4,
  "nbformat_minor": 0,
  "metadata": {
    "colab": {
      "provenance": []
    },
    "kernelspec": {
      "name": "python3",
      "display_name": "Python 3"
    },
    "language_info": {
      "name": "python"
    }
  },
  "cells": [
    {
      "cell_type": "markdown",
      "source": [
        "# **Functions**"
      ],
      "metadata": {
        "id": "jFTGcy_1w64n"
      }
    },
    {
      "cell_type": "code",
      "source": [
        "# function definition\n",
        "def greet(name):\n",
        "  print(f\"Hello, {name}\")\n",
        "\n",
        "# function call\n",
        "greet(\"Vishwajeet\")"
      ],
      "metadata": {
        "colab": {
          "base_uri": "https://localhost:8080/"
        },
        "id": "DZudWGASxC9l",
        "outputId": "e552b7a3-9b35-4274-a332-93e018e8f6c1"
      },
      "execution_count": 1,
      "outputs": [
        {
          "output_type": "stream",
          "name": "stdout",
          "text": [
            "Hello, Vishwajeet\n"
          ]
        }
      ]
    },
    {
      "cell_type": "code",
      "source": [
        "def myFunction(*learners):\n",
        "  print(\"One of the learner in full stack data science course is \" + learners[2])\n",
        "\n",
        "# Learners name\n",
        "myFunction(\"Raman\", \"Sanjeev\", \"Susheet\", \"Aritra\", \"Soumallya\", \"Himanshu\")"
      ],
      "metadata": {
        "colab": {
          "base_uri": "https://localhost:8080/"
        },
        "id": "jyN7imeUxOYc",
        "outputId": "f1a15ef5-d03c-4b48-e899-71a1ebf26d4b"
      },
      "execution_count": 2,
      "outputs": [
        {
          "output_type": "stream",
          "name": "stdout",
          "text": [
            "One of the learner in full stack data science course is Susheet\n"
          ]
        }
      ]
    },
    {
      "cell_type": "code",
      "source": [
        "def my_function(country=\"India\"):\n",
        "  print(\"I am from \" + country)\n",
        "\n",
        "my_function(\"Sweden\")\n",
        "my_function(\"India\")\n",
        "my_function() # default country = 'India'\n",
        "my_function(\"Brazil\")"
      ],
      "metadata": {
        "colab": {
          "base_uri": "https://localhost:8080/"
        },
        "id": "L4N33vwByay6",
        "outputId": "ffe0563e-5a2f-4dc8-f83c-d5c54647bb99"
      },
      "execution_count": 5,
      "outputs": [
        {
          "output_type": "stream",
          "name": "stdout",
          "text": [
            "I am from Sweden\n",
            "I am from India\n",
            "I am from India\n",
            "I am from Brazil\n"
          ]
        }
      ]
    },
    {
      "cell_type": "code",
      "source": [
        "def function(a, b=10, c):\n",
        "  return a + b - c\n",
        "\n",
        "result = function(10, 12)\n",
        "print(result)"
      ],
      "metadata": {
        "colab": {
          "base_uri": "https://localhost:8080/",
          "height": 106
        },
        "id": "ZFxZd4CH0NiW",
        "outputId": "b73ee1f2-1040-415c-b30f-0b26a1c704b8"
      },
      "execution_count": 6,
      "outputs": [
        {
          "output_type": "error",
          "ename": "SyntaxError",
          "evalue": "parameter without a default follows parameter with a default (ipython-input-4133844547.py, line 1)",
          "traceback": [
            "\u001b[0;36m  File \u001b[0;32m\"/tmp/ipython-input-4133844547.py\"\u001b[0;36m, line \u001b[0;32m1\u001b[0m\n\u001b[0;31m    def function(a, b=10, c):\u001b[0m\n\u001b[0m                          ^\u001b[0m\n\u001b[0;31mSyntaxError\u001b[0m\u001b[0;31m:\u001b[0m parameter without a default follows parameter with a default\n"
          ]
        }
      ]
    },
    {
      "cell_type": "code",
      "source": [
        "def calculate_result(x, y, w = 1, z = 5):\n",
        "  return x + y + w + z\n",
        "\n",
        "result = calculate_result(1, 2, 4)\n",
        "print(result)"
      ],
      "metadata": {
        "colab": {
          "base_uri": "https://localhost:8080/"
        },
        "id": "IIidW6cT0bcJ",
        "outputId": "be6d02a6-6353-4f3a-f96a-b321a2839a36"
      },
      "execution_count": 8,
      "outputs": [
        {
          "output_type": "stream",
          "name": "stdout",
          "text": [
            "12\n"
          ]
        }
      ]
    },
    {
      "cell_type": "code",
      "source": [
        "def my_function(lst):\n",
        "  for num in lst:\n",
        "    print(num)\n",
        "\n",
        "lst = [2, 3, 4, 5, 6, 1, 8]\n",
        "my_function(lst)"
      ],
      "metadata": {
        "colab": {
          "base_uri": "https://localhost:8080/"
        },
        "id": "da32Vkr1dtgP",
        "outputId": "6f5aab4d-c571-4cd2-ae1d-b4f57b3a799e"
      },
      "execution_count": 10,
      "outputs": [
        {
          "output_type": "stream",
          "name": "stdout",
          "text": [
            "2\n",
            "3\n",
            "4\n",
            "5\n",
            "6\n",
            "1\n",
            "8\n"
          ]
        }
      ]
    },
    {
      "cell_type": "markdown",
      "source": [
        "Create a function \"calc\" in which it is having add functionality, subtraction functionality, multiplication and division functionality of two numbers"
      ],
      "metadata": {
        "id": "dveFzLrmeZSq"
      }
    },
    {
      "cell_type": "code",
      "source": [
        "n1 = int(input(\"Enter number 1: \"))\n",
        "n2 = int(input(\"Enter number 2: \"))\n",
        "operation = input(\"Enter operation: \")\n",
        "\n",
        "def calc(n1, n2, operation = \"add\"):\n",
        "  if operation == \"add\":\n",
        "    return n1 + n2\n",
        "  elif operation == \"sub\":\n",
        "    return n1 - n2\n",
        "  elif operation == \"mult\":\n",
        "    return n1 * n2\n",
        "  elif operation == \"divide\":\n",
        "    return n1 / n2\n",
        "  else:\n",
        "    return \"Invalid operation\"\n",
        "\n",
        "# n1 = 2\n",
        "# n2 = 4\n",
        "# operation = multiply\n",
        "# result = calc(n1, n2, operation)\n",
        "# if operation is not there\n",
        "result = calc(n1, n2)\n",
        "print(result)"
      ],
      "metadata": {
        "colab": {
          "base_uri": "https://localhost:8080/"
        },
        "id": "x20NmmRMfqlr",
        "outputId": "f715dac9-bca7-4bcd-8ab9-38a0fbe78c25"
      },
      "execution_count": 12,
      "outputs": [
        {
          "output_type": "stream",
          "name": "stdout",
          "text": [
            "Enter number 1: 2\n",
            "Enter number 2: 4\n",
            "Enter operation: mult\n",
            "6\n"
          ]
        }
      ]
    },
    {
      "cell_type": "markdown",
      "source": [
        "## print() and return"
      ],
      "metadata": {
        "id": "IM36oHb8gZyQ"
      }
    },
    {
      "cell_type": "code",
      "source": [
        "def add_with_print(a, b):\n",
        "  print(\"The sum of two numbers is \", a + b)\n",
        "\n",
        "def add_with_return(a, b):\n",
        "  return a + b\n",
        "\n",
        "add_with_print(2, 3)\n",
        "result = add_with_return(2, 3)\n",
        "print(\"The sum of two numbers is \", result)\n"
      ],
      "metadata": {
        "colab": {
          "base_uri": "https://localhost:8080/"
        },
        "id": "qcuzOrSKkvW4",
        "outputId": "42255f55-c4c7-4e89-efef-8feb125ca454"
      },
      "execution_count": 13,
      "outputs": [
        {
          "output_type": "stream",
          "name": "stdout",
          "text": [
            "The sum of two numbers is  5\n",
            "The sum of two numbers is  5\n"
          ]
        }
      ]
    },
    {
      "cell_type": "markdown",
      "source": [
        "## Armstrong Number"
      ],
      "metadata": {
        "id": "Ksu-csC0lVmG"
      }
    },
    {
      "cell_type": "code",
      "source": [
        "n = int(input(\"Enter a number: \"))\n",
        "\n",
        "def count_length(n):\n",
        "  num = n\n",
        "  count = 0\n",
        "  while num > 0:\n",
        "    num = num // 10\n",
        "    count += 1\n",
        "  return count\n",
        "\n",
        "def is_armstrong(n):\n",
        "  num = n\n",
        "  pow = count_length(n)\n",
        "  new_num = 0\n",
        "  while num > 0:\n",
        "    new_num += (num % 10) ** pow\n",
        "    num = num // 10\n",
        "  if new_num == n:\n",
        "    return True\n",
        "  else:\n",
        "    return False\n",
        "\n",
        "is_armstrong(n)"
      ],
      "metadata": {
        "colab": {
          "base_uri": "https://localhost:8080/"
        },
        "id": "MhDmm1o1mntk",
        "outputId": "cbcc18c1-6b47-4cae-a6a1-d6a7b1825308"
      },
      "execution_count": 17,
      "outputs": [
        {
          "name": "stdout",
          "output_type": "stream",
          "text": [
            "Enter a number: 568\n"
          ]
        },
        {
          "output_type": "execute_result",
          "data": {
            "text/plain": [
              "False"
            ]
          },
          "metadata": {},
          "execution_count": 17
        }
      ]
    },
    {
      "cell_type": "code",
      "source": [
        "def sum_and_product(num1, num2):\n",
        "  sum = num1 + num2\n",
        "  product = num1 * num2\n",
        "  return sum, product\n",
        "\n",
        "sum, product = sum_and_product(2, 3)\n",
        "print(sum, product)"
      ],
      "metadata": {
        "colab": {
          "base_uri": "https://localhost:8080/"
        },
        "id": "tRXcss4w2Ben",
        "outputId": "4f688f8d-4779-4827-c673-8d273a958697"
      },
      "execution_count": 18,
      "outputs": [
        {
          "output_type": "stream",
          "name": "stdout",
          "text": [
            "5 6\n"
          ]
        }
      ]
    },
    {
      "cell_type": "markdown",
      "source": [
        "## Nested Functions"
      ],
      "metadata": {
        "id": "OnBdmPpH4NVT"
      }
    },
    {
      "cell_type": "code",
      "source": [
        "def calculator(x, y):\n",
        "  def add(x, y):\n",
        "    return x + y\n",
        "\n",
        "  def multiply(x, y):\n",
        "    return x * y\n",
        "\n",
        "  def calc(op, x, y):\n",
        "    if op == \"add\":\n",
        "      return add(x, y)\n",
        "    else:\n",
        "      return multiply(x, y)\n",
        "\n",
        "  return calc('add', x, y), calc('multiply', x, y)\n",
        "\n",
        "result = calculator(2, 3)\n",
        "print(result)"
      ],
      "metadata": {
        "colab": {
          "base_uri": "https://localhost:8080/"
        },
        "id": "gjpgrJmL4zCv",
        "outputId": "1b9d16f6-5771-44f0-b7fa-8899e0def244"
      },
      "execution_count": 20,
      "outputs": [
        {
          "output_type": "stream",
          "name": "stdout",
          "text": [
            "(5, 6)\n"
          ]
        }
      ]
    },
    {
      "cell_type": "code",
      "source": [],
      "metadata": {
        "id": "IEqkHYi05O80"
      },
      "execution_count": null,
      "outputs": []
    }
  ]
}