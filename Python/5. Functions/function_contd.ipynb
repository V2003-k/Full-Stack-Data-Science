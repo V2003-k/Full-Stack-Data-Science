{
  "nbformat": 4,
  "nbformat_minor": 0,
  "metadata": {
    "colab": {
      "provenance": []
    },
    "kernelspec": {
      "name": "python3",
      "display_name": "Python 3"
    },
    "language_info": {
      "name": "python"
    }
  },
  "cells": [
    {
      "cell_type": "markdown",
      "source": [
        "# **Function Continued**"
      ],
      "metadata": {
        "id": "qmrmSKlsd92M"
      }
    },
    {
      "cell_type": "markdown",
      "source": [
        "## **kwargs and *args"
      ],
      "metadata": {
        "id": "G3_S_LK3foTC"
      }
    },
    {
      "cell_type": "code",
      "source": [
        "def print_args(*args):\n",
        "  for arg in args:\n",
        "    print(arg)\n",
        "\n",
        "print_args(10, 20, 30)"
      ],
      "metadata": {
        "colab": {
          "base_uri": "https://localhost:8080/"
        },
        "id": "gEfUQh5_fsss",
        "outputId": "2cf14398-a311-4528-f594-54bb6e85aa01"
      },
      "execution_count": 1,
      "outputs": [
        {
          "output_type": "stream",
          "name": "stdout",
          "text": [
            "10\n",
            "20\n",
            "30\n"
          ]
        }
      ]
    },
    {
      "cell_type": "code",
      "source": [
        "def print_args(**kwargs):\n",
        "  for key, value in kwargs.items():\n",
        "    print(f\"{key}: {value}\")\n",
        "\n",
        "print_args(name = \"Vishwajeet\", age = 23, salary = 2345670, city = \"Pune\")"
      ],
      "metadata": {
        "colab": {
          "base_uri": "https://localhost:8080/"
        },
        "id": "gbl9irmHf5mK",
        "outputId": "47cc5cda-0be4-496e-a9bb-49ab52cfcef6"
      },
      "execution_count": 2,
      "outputs": [
        {
          "output_type": "stream",
          "name": "stdout",
          "text": [
            "name: Vishwajeet\n",
            "age: 23\n",
            "salary: 2345670\n",
            "city: Pune\n"
          ]
        }
      ]
    },
    {
      "cell_type": "markdown",
      "source": [
        "## Recursion"
      ],
      "metadata": {
        "id": "iWwN7IljgMwn"
      }
    },
    {
      "cell_type": "code",
      "source": [
        "num = int(input(\"Enter a number to find its factorial: \"))\n",
        "\n",
        "# iterative factorial function\n",
        "def i_factorial(num):\n",
        "  new_num = 1\n",
        "  for n in range(num, 1, -1):\n",
        "    new_num *= n\n",
        "  return new_num\n",
        "\n",
        "# recursive factorial function\n",
        "def r_factorial(num):\n",
        "  # base case condition\n",
        "  if num == 0 or num == 1:\n",
        "    return 1\n",
        "  else:\n",
        "    # recrusive function\n",
        "    return num * r_factorial(num - 1)\n",
        "\n",
        "print(f\"Recursive Factorial of {num} is {r_factorial(num)}\")\n",
        "print(f\"Iterative Factorial of {num} is {i_factorial(num)}\")"
      ],
      "metadata": {
        "colab": {
          "base_uri": "https://localhost:8080/"
        },
        "id": "IOo_o5mrOORF",
        "outputId": "ccc723f2-bea8-4956-a8e5-292faed677ae"
      },
      "execution_count": 4,
      "outputs": [
        {
          "output_type": "stream",
          "name": "stdout",
          "text": [
            "Enter a number to find its factorial: 6\n",
            "Recursive Factorial of 6 is 720\n",
            "Iterative Factorial of 6 is 720\n"
          ]
        }
      ]
    },
    {
      "cell_type": "markdown",
      "source": [
        "## Lambda Functions"
      ],
      "metadata": {
        "id": "UsVuD_qtU3uG"
      }
    },
    {
      "cell_type": "code",
      "source": [
        "add = lambda x, y: x + y\n",
        "print(add(2, 3))"
      ],
      "metadata": {
        "colab": {
          "base_uri": "https://localhost:8080/"
        },
        "id": "g9Rb1OjrWIb9",
        "outputId": "05ebf280-b117-4820-e208-f505211d3afa"
      },
      "execution_count": 5,
      "outputs": [
        {
          "output_type": "stream",
          "name": "stdout",
          "text": [
            "5\n"
          ]
        }
      ]
    },
    {
      "cell_type": "code",
      "source": [
        "# square of given number using lambda functions\n",
        "\n",
        "num = int(input(\"Enter a number to find its square: \"))\n",
        "\n",
        "square = lambda x: x ** 2\n",
        "print(f\"Square of {num} is {square(num)}\")"
      ],
      "metadata": {
        "colab": {
          "base_uri": "https://localhost:8080/"
        },
        "id": "jBkVBs1qWe4P",
        "outputId": "680ed49c-6220-4795-8871-3d2b7e54414b"
      },
      "execution_count": 6,
      "outputs": [
        {
          "output_type": "stream",
          "name": "stdout",
          "text": [
            "Enter a number to find its square: 6\n",
            "Square of 6 is 36\n"
          ]
        }
      ]
    },
    {
      "cell_type": "code",
      "source": [],
      "metadata": {
        "id": "OrokxLb6W5RT"
      },
      "execution_count": null,
      "outputs": []
    }
  ]
}