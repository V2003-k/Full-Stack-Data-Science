{
  "nbformat": 4,
  "nbformat_minor": 0,
  "metadata": {
    "colab": {
      "provenance": []
    },
    "kernelspec": {
      "name": "python3",
      "display_name": "Python 3"
    },
    "language_info": {
      "name": "python"
    }
  },
  "cells": [
    {
      "cell_type": "markdown",
      "source": [
        "# Exception Handling"
      ],
      "metadata": {
        "id": "8J9tu4TnZPTr"
      }
    },
    {
      "cell_type": "code",
      "source": [
        "learner_scores = {\n",
        "    'Siddharth': 88,\n",
        "    'Prem': 89,\n",
        "    'Mohit': 93,\n",
        "    'Swati': 90\n",
        "}\n",
        "\n",
        "# Sort the aboce dictionary in the ascending order\n",
        "sorted_values = dict(sorted(learner_scores.items(), key=lambda item: item[1]))\n",
        "print(sorted_values)"
      ],
      "metadata": {
        "colab": {
          "base_uri": "https://localhost:8080/"
        },
        "id": "ZD78xBKFZWgY",
        "outputId": "b3e2ce69-2515-4906-fc49-a390fb398110"
      },
      "execution_count": 1,
      "outputs": [
        {
          "output_type": "stream",
          "name": "stdout",
          "text": [
            "{'Siddharth': 88, 'Prem': 89, 'Swati': 90, 'Mohit': 93}\n"
          ]
        }
      ]
    },
    {
      "cell_type": "code",
      "source": [
        "# Sort the aboce dictionary in the descending order\n",
        "sorted_values = dict(sorted(learner_scores.items(), key=lambda item: item[1], reverse = True))\n",
        "print(sorted_values)"
      ],
      "metadata": {
        "colab": {
          "base_uri": "https://localhost:8080/"
        },
        "id": "caryDGw8aRsO",
        "outputId": "ef8298e1-4cde-472d-b496-7996d9824707"
      },
      "execution_count": 2,
      "outputs": [
        {
          "output_type": "stream",
          "name": "stdout",
          "text": [
            "{'Mohit': 93, 'Swati': 90, 'Prem': 89, 'Siddharth': 88}\n"
          ]
        }
      ]
    },
    {
      "cell_type": "markdown",
      "source": [
        "## Logical Error"
      ],
      "metadata": {
        "id": "PlsSCCeta5MW"
      }
    },
    {
      "cell_type": "code",
      "source": [
        "length = 10\n",
        "width = 5\n",
        "\n",
        "area_of_rectangle = length + width\n",
        "print(area_of_rectangle)"
      ],
      "metadata": {
        "colab": {
          "base_uri": "https://localhost:8080/"
        },
        "id": "TsAN-2-Uc9GS",
        "outputId": "66580aa5-17e1-45b6-e4ab-afddeb25e2d1"
      },
      "execution_count": 3,
      "outputs": [
        {
          "output_type": "stream",
          "name": "stdout",
          "text": [
            "15\n"
          ]
        }
      ]
    },
    {
      "cell_type": "markdown",
      "source": [
        "## Runtime Error"
      ],
      "metadata": {
        "id": "kgszc0carvRx"
      }
    },
    {
      "cell_type": "code",
      "source": [
        "num = 0\n",
        "\n",
        "division = 10 / num\n",
        "print(division)"
      ],
      "metadata": {
        "colab": {
          "base_uri": "https://localhost:8080/",
          "height": 193
        },
        "id": "lZMa7U0rdJd9",
        "outputId": "7f551fe8-7340-4cef-df51-e141503e7b1d"
      },
      "execution_count": 19,
      "outputs": [
        {
          "output_type": "error",
          "ename": "ZeroDivisionError",
          "evalue": "division by zero",
          "traceback": [
            "\u001b[0;31m---------------------------------------------------------------------------\u001b[0m",
            "\u001b[0;31mZeroDivisionError\u001b[0m                         Traceback (most recent call last)",
            "\u001b[0;32m/tmp/ipython-input-1539240006.py\u001b[0m in \u001b[0;36m<cell line: 0>\u001b[0;34m()\u001b[0m\n\u001b[1;32m      1\u001b[0m \u001b[0mnum\u001b[0m \u001b[0;34m=\u001b[0m \u001b[0;36m0\u001b[0m\u001b[0;34m\u001b[0m\u001b[0;34m\u001b[0m\u001b[0m\n\u001b[1;32m      2\u001b[0m \u001b[0;34m\u001b[0m\u001b[0m\n\u001b[0;32m----> 3\u001b[0;31m \u001b[0mdivision\u001b[0m \u001b[0;34m=\u001b[0m \u001b[0;36m10\u001b[0m \u001b[0;34m/\u001b[0m \u001b[0mnum\u001b[0m\u001b[0;34m\u001b[0m\u001b[0;34m\u001b[0m\u001b[0m\n\u001b[0m\u001b[1;32m      4\u001b[0m \u001b[0mprint\u001b[0m\u001b[0;34m(\u001b[0m\u001b[0mdivision\u001b[0m\u001b[0;34m)\u001b[0m\u001b[0;34m\u001b[0m\u001b[0;34m\u001b[0m\u001b[0m\n",
            "\u001b[0;31mZeroDivisionError\u001b[0m: division by zero"
          ]
        }
      ]
    },
    {
      "cell_type": "markdown",
      "source": [
        "## Exception Handling"
      ],
      "metadata": {
        "id": "kE5Lxheerz66"
      }
    },
    {
      "cell_type": "code",
      "source": [
        "try:\n",
        "  num = int(input(\"Enter a number: \"))\n",
        "  result = 10 / num\n",
        "except ZeroDivisionError:\n",
        "  print(\"Cannot divide by 0\")\n",
        "else:\n",
        "  print(f\"Result is: {result}\")\n",
        "finally:\n",
        "  print(\"Execution completed\")"
      ],
      "metadata": {
        "colab": {
          "base_uri": "https://localhost:8080/"
        },
        "id": "Pj1Gmq07cAFp",
        "outputId": "ec8f2746-7e98-4559-ca87-3c0f81764da3"
      },
      "execution_count": 14,
      "outputs": [
        {
          "output_type": "stream",
          "name": "stdout",
          "text": [
            "Enter a number: 0\n",
            "Cannot divide by 0\n",
            "Execution completed\n"
          ]
        }
      ]
    },
    {
      "cell_type": "code",
      "source": [
        "my_list = [1, 2, 3, 4, 5, 6, 7, 8, 9, 10]\n",
        "\n",
        "try:\n",
        "  index = int(input(\"Enter an index: \"))\n",
        "  value = my_list[index]\n",
        "except IndexError:\n",
        "  print(f\"Index is out of bound you can not access element after {index - 1}\")\n",
        "else:\n",
        "  print(f\"The value at index {index} is {value}\")\n",
        "finally:\n",
        "  print(\"Execution is completed\")"
      ],
      "metadata": {
        "colab": {
          "base_uri": "https://localhost:8080/"
        },
        "id": "01udXjwQdPZl",
        "outputId": "6cfd0628-760b-4c99-afc2-979011904f77"
      },
      "execution_count": 16,
      "outputs": [
        {
          "output_type": "stream",
          "name": "stdout",
          "text": [
            "Enter an index: 4\n",
            "The value at index 4 is 5\n",
            "Execution is completed\n"
          ]
        }
      ]
    },
    {
      "cell_type": "code",
      "source": [
        "my_dict = {\n",
        "    \"name\": \"Vishwajeet\",\n",
        "    \"age\": 23\n",
        "}\n",
        "\n",
        "executed_try = False\n",
        "\n",
        "try:\n",
        "  print(my_dict[\"email\"])\n",
        "  executed_try = True\n",
        "except KeyError:\n",
        "  print(\"Key is not present in the dictionary\")\n",
        "else:\n",
        "  print(\"Key Error is not occured\")\n",
        "finally:\n",
        "  if executed_try:\n",
        "    print(\"Try block is executed\")\n",
        "  else:\n",
        "    print(\"Except block is executed\")"
      ],
      "metadata": {
        "colab": {
          "base_uri": "https://localhost:8080/"
        },
        "id": "RG52Nq6yoJTo",
        "outputId": "41037c54-a009-431c-c645-38db7e71d331"
      },
      "execution_count": 17,
      "outputs": [
        {
          "output_type": "stream",
          "name": "stdout",
          "text": [
            "Key is not present in the dictionary\n",
            "Except block is executed\n"
          ]
        }
      ]
    },
    {
      "cell_type": "code",
      "source": [
        "my_dict = {\n",
        "    \"name\": \"Vishwajeet\",\n",
        "    \"age\": 23\n",
        "}\n",
        "\n",
        "try:\n",
        "  print(my_dict[\"email\"])\n",
        "except Exception as e:\n",
        "  print(e)"
      ],
      "metadata": {
        "colab": {
          "base_uri": "https://localhost:8080/"
        },
        "id": "ltx_xlCSqYl2",
        "outputId": "92daf718-b699-4742-8ac0-17de44162d76"
      },
      "execution_count": 18,
      "outputs": [
        {
          "output_type": "stream",
          "name": "stdout",
          "text": [
            "'email'\n"
          ]
        }
      ]
    },
    {
      "cell_type": "markdown",
      "source": [
        "## Raise Error"
      ],
      "metadata": {
        "id": "kAGFh2hnr3ax"
      }
    },
    {
      "cell_type": "code",
      "source": [
        "x = 10\n",
        "\n",
        "if x > 5:\n",
        "  raise ValueError(\"Value is too high\")"
      ],
      "metadata": {
        "colab": {
          "base_uri": "https://localhost:8080/",
          "height": 176
        },
        "id": "ACjsdjcxrC9m",
        "outputId": "d50113d7-ceaa-477e-8600-adbe36f7c771"
      },
      "execution_count": 20,
      "outputs": [
        {
          "output_type": "error",
          "ename": "ValueError",
          "evalue": "Value is too high",
          "traceback": [
            "\u001b[0;31m---------------------------------------------------------------------------\u001b[0m",
            "\u001b[0;31mValueError\u001b[0m                                Traceback (most recent call last)",
            "\u001b[0;32m/tmp/ipython-input-1400807420.py\u001b[0m in \u001b[0;36m<cell line: 0>\u001b[0;34m()\u001b[0m\n\u001b[1;32m      2\u001b[0m \u001b[0;34m\u001b[0m\u001b[0m\n\u001b[1;32m      3\u001b[0m \u001b[0;32mif\u001b[0m \u001b[0mx\u001b[0m \u001b[0;34m>\u001b[0m \u001b[0;36m5\u001b[0m\u001b[0;34m:\u001b[0m\u001b[0;34m\u001b[0m\u001b[0;34m\u001b[0m\u001b[0m\n\u001b[0;32m----> 4\u001b[0;31m   \u001b[0;32mraise\u001b[0m \u001b[0mValueError\u001b[0m\u001b[0;34m(\u001b[0m\u001b[0;34m\"Value is too high\"\u001b[0m\u001b[0;34m)\u001b[0m\u001b[0;34m\u001b[0m\u001b[0;34m\u001b[0m\u001b[0m\n\u001b[0m",
            "\u001b[0;31mValueError\u001b[0m: Value is too high"
          ]
        }
      ]
    },
    {
      "cell_type": "code",
      "source": [],
      "metadata": {
        "id": "3SxUCCSbsELD"
      },
      "execution_count": null,
      "outputs": []
    }
  ]
}